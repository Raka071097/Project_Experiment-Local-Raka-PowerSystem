{
 "cells": [
  {
   "cell_type": "markdown",
   "id": "d24136cf",
   "metadata": {},
   "source": [
    "# The Purpose Of this Experiment is to Turn Off Generator in Case 9 Bus IEEE by Matpower, *Simulation Use Optimal Power Flow not PF or DCPF*."
   ]
  },
  {
   "cell_type": "code",
   "execution_count": null,
   "id": "d83795b2",
   "metadata": {},
   "outputs": [
    {
     "name": "stdout",
     "output_type": "stream",
     "text": [
      "The autoreload extension is already loaded. To reload it, use:\n",
      "  %reload_ext autoreload\n"
     ]
    }
   ],
   "source": [
    "%load_ext autoreload\n",
    "%autoreload 2"
   ]
  },
  {
   "cell_type": "markdown",
   "id": "b5812f82",
   "metadata": {},
   "source": [
    "## Base Case Without Turn Off Generator Status"
   ]
  },
  {
   "cell_type": "code",
   "execution_count": null,
   "id": "8b1c8857",
   "metadata": {},
   "outputs": [
    {
     "name": "stdout",
     "output_type": "stream",
     "text": [
      "\n",
      "MATPOWER Version 8.0, 17-May-2024\n",
      "Optimal Power Flow -- AC-polar-power formulation\n",
      "MATPOWER Interior Point Solver -- MIPS, Version 1.5.1, 10-May-2024\n",
      " (using built-in linear solver)\n",
      " it    objective   step size   feascond     gradcond     compcond     costcond\n",
      "----  ------------ --------- ------------ ------------ ------------ ------------\n",
      "  0      8363.125                   0.155       0.1765      57.1483            0\n",
      "  1     5307.5519    0.68632   0.00900309      8.30505      15.6381     0.166397\n",
      "  2     5391.0949    0.24288  0.000359195     0.630698      2.20652   0.00545763\n",
      "  3     5352.5722   0.088637   3.7341e-05     0.141404     0.216699   0.00250292\n",
      "  4     5315.4636    0.17189  0.000106315    0.0190754      0.02128    0.0024171\n",
      "  5     5312.3257   0.066353  0.000123278   0.00135236   0.00351135  0.000204886\n",
      "  6     5301.3809    0.19111   0.00120494   0.00174642  0.000962847  0.000714764\n",
      "  7     5296.7947    0.11693  0.000322236  7.55989e-05  0.000161495  0.000299729\n",
      "  8     5296.6848   0.042477  6.97202e-05  0.000191987  3.86228e-05  7.18437e-06\n",
      "  9     5296.6979   0.017789  3.27991e-06  0.000142097  1.15202e-05  8.58724e-07\n",
      " 10     5296.6885  0.0073711  5.75478e-07  1.89224e-07  1.39248e-06  6.13354e-07\n",
      " 11     5296.6865  0.0024437  6.22804e-08  2.14553e-08  1.57797e-07   1.3128e-07\n",
      "Converged!\n",
      "OPF successful\n",
      "\n",
      "Converged in 0.70 seconds\n",
      "Objective Function Value = 5296.69 $/hr\n",
      "================================================================================\n",
      "|     System Summary                                                           |\n",
      "================================================================================\n",
      "\n",
      "How many?                How much?              P (MW)            Q (MVAr)\n",
      "---------------------    -------------------  -------------  -----------------\n",
      "Buses              9     Total Gen Capacity     820.0        -900.0 to 900.0\n",
      "Generators         3     On-line Capacity       820.0        -900.0 to 900.0\n",
      "Committed Gens     3     Generation (actual)    318.3              -9.6\n",
      "Loads              3     Load                   315.0             115.0\n",
      "  Fixed            3       Fixed                315.0             115.0\n",
      "  Dispatchable     0       Dispatchable          -0.0 of -0.0      -0.0\n",
      "Shunts             0     Shunt (inj)             -0.0               0.0\n",
      "Branches           9     Losses (I^2 * Z)         3.31             36.46\n",
      "Transformers       0     Branch Charging (inj)     -              161.1\n",
      "Inter-ties         0     Total Inter-tie Flow     0.0               0.0\n",
      "Areas              1\n",
      "\n",
      "                          Minimum                      Maximum\n",
      "                 -------------------------  --------------------------------\n",
      "Voltage Magnitude   1.072 p.u. @ bus 9          1.100 p.u. @ bus 8\n",
      "Voltage Angle      -4.62 deg   @ bus 9          4.89 deg   @ bus 2\n",
      "P Losses (I^2*R)             -                  1.39 MW    @ line 8-9\n",
      "Q Losses (I^2*X)             -                  9.36 MVAr  @ line 8-2\n",
      "Lambda P           24.03 $/MWh @ bus 2         25.00 $/MWh @ bus 9\n",
      "Lambda Q           -0.00 $/MWh @ bus 3          0.11 $/MWh @ bus 9\n",
      "\n",
      "================================================================================\n",
      "|     Bus Data                                                                 |\n",
      "================================================================================\n",
      " Bus      Voltage          Generation             Load          Lambda($/MVA-hr)\n",
      "  #   Mag(pu) Ang(deg)   P (MW)   Q (MVAr)   P (MW)   Q (MVAr)     P        Q\n",
      "----- ------- --------  --------  --------  --------  --------  -------  -------\n",
      "    1  1.100    0.000*    89.80     12.94       -         -      24.756     -\n",
      "    2  1.097    4.893    134.32      0.05       -         -      24.035     -\n",
      "    3  1.087    3.249     94.19    -22.62       -         -      24.076     -\n",
      "    4  1.094   -2.463       -         -         -         -      24.756   0.004\n",
      "    5  1.084   -3.982       -         -       90.00     30.00    24.998   0.027\n",
      "    6  1.100    0.602       -         -         -         -      24.076     -\n",
      "    7  1.089   -1.197       -         -      100.00     35.00    24.254   0.036\n",
      "    8  1.100    0.905       -         -         -         -      24.035     -\n",
      "    9  1.072   -4.616       -         -      125.00     50.00    24.999   0.112\n",
      "                        --------  --------  --------  --------\n",
      "               Total:    318.31     -9.63    315.00    115.00\n",
      "\n",
      "================================================================================\n",
      "|     Branch Data                                                              |\n",
      "================================================================================\n",
      "Brnch   From   To    From Bus Injection   To Bus Injection     Loss (I^2 * Z)\n",
      "  #     Bus    Bus    P (MW)   Q (MVAr)   P (MW)   Q (MVAr)   P (MW)   Q (MVAr)\n",
      "-----  -----  -----  --------  --------  --------  --------  --------  --------\n",
      "   1      1      4     89.80     12.94    -89.80     -9.02     0.000      3.92\n",
      "   2      4      5     35.22     -3.90    -35.04    -13.87     0.181      0.98\n",
      "   3      5      6    -54.96    -16.13     55.97    -22.18     1.010      4.40\n",
      "   4      3      6     94.19    -22.62    -94.19     27.28     0.000      4.66\n",
      "   5      6      7     38.22     -5.10    -38.07    -18.68     0.149      1.26\n",
      "   6      7      8    -61.93    -16.32     62.21      0.82     0.279      2.36\n",
      "   7      8      2   -134.32      9.32    134.32      0.05    -0.000      9.36\n",
      "   8      8      9     72.11    -10.14    -70.72    -18.94     1.394      7.01\n",
      "   9      9      4    -54.28    -31.06     54.58     12.92     0.295      2.51\n",
      "                                                             --------  --------\n",
      "                                                    Total:     3.307     36.46\n",
      "\n",
      "================================================================================\n",
      "|     Voltage Constraints                                                      |\n",
      "================================================================================\n",
      "Bus #  Vmin mu    Vmin    |V|   Vmax    Vmax mu\n",
      "-----  --------   -----  -----  -----   --------\n",
      "    1      -      0.900  1.100  1.100     8.384\n",
      "    6      -      0.900  1.100  1.100    75.329\n",
      "    8      -      0.900  1.100  1.100    77.457\n"
     ]
    }
   ],
   "source": [
    "from matpower import start_instance\n",
    "from matpowercaseframes import CaseFrames\n",
    "\n",
    "m = start_instance()\n",
    "\n",
    "path = \"../data/case9.m\"\n",
    "cf = CaseFrames(path)\n",
    "\n",
    "# TRY USING ACOPF\n",
    "mpc = cf.to_mpc()\n",
    "mpopt = m.mpoption('verbose', 2)\n",
    "[baseMVA, bus, gen, gencost, branch, f, success, et] = m.runopf(mpc, mpopt, nout='max_nout')"
   ]
  },
  {
   "cell_type": "markdown",
   "id": "c54e3827",
   "metadata": {},
   "source": [
    "## Case 1: Edit Generator Status Via MatpowerCaseframes = before simulation has intention to turn off one generator status."
   ]
  },
  {
   "cell_type": "code",
   "execution_count": null,
   "id": "535cabb4",
   "metadata": {},
   "outputs": [],
   "source": [
    "from matpower import start_instance\n",
    "from matpowercaseframes import CaseFrames"
   ]
  },
  {
   "cell_type": "code",
   "execution_count": null,
   "id": "69b67384",
   "metadata": {},
   "outputs": [],
   "source": [
    "m = start_instance()"
   ]
  },
  {
   "cell_type": "code",
   "execution_count": null,
   "id": "09ec11d1",
   "metadata": {},
   "outputs": [
    {
     "name": "stdout",
     "output_type": "stream",
     "text": [
      "function mpc = case9\n",
      "%CASE9    Power flow data for 9 bus, 3 generator case.\n",
      "%   Please see CASEFORMAT for details on the case file format.\n",
      "%\n",
      "%   Based on data from p. 70 of:\n",
      "%\n",
      "%   Chow, J. H., editor. Time-Scale Modeling of Dynamic Networks with\n",
      "%   Applications to Power Systems. Springer-Verlag, 1982.\n",
      "%   Part of the Lecture Notes in Control and Information Sciences book\n",
      "%   series (LNCIS, volume 46)\n",
      "%\n",
      "%   which in turn appears to come from:\n",
      "%\n",
      "%   R.P. Schulz, A.E. Turner and D.N. Ewart, \"Long Term Power System\n",
      "%   Dynamics,\" EPRI Report 90-7-0, Palo Alto, California, 1974.\n",
      "\n",
      "%   MATPOWER\n",
      "\n",
      "%% MATPOWER Case Format : Version 2\n",
      "mpc.version = '2';\n",
      "\n",
      "%%-----  Power Flow Data  -----%%\n",
      "%% system MVA base\n",
      "mpc.baseMVA = 100;\n",
      "\n",
      "%% bus data\n",
      "%\tbus_i\ttype\tPd\tQd\tGs\tBs\tarea\tVm\tVa\tbaseKV\tzone\tVmax\tVmin\n",
      "mpc.bus = [\n",
      "\t1\t3\t0\t0\t0\t0\t1\t1\t0\t345\t1\t1.1\t0.9;\n",
      "\t2\t2\t0\t0\t0\t0\t1\t1\t0\t345\t1\t1.1\t0.9;\n",
      "\t3\t2\t0\t0\t0\t0\t1\t1\t0\t345\t1\t1.1\t0.9;\n",
      "\t4\t1\t0\t0\t0\t0\t1\t1\t0\t345\t1\t1.1\t0.9;\n",
      "\t5\t1\t90\t30\t0\t0\t1\t1\t0\t345\t1\t1.1\t0.9;\n",
      "\t6\t1\t0\t0\t0\t0\t1\t1\t0\t345\t1\t1.1\t0.9;\n",
      "\t7\t1\t100\t35\t0\t0\t1\t1\t0\t345\t1\t1.1\t0.9;\n",
      "\t8\t1\t0\t0\t0\t0\t1\t1\t0\t345\t1\t1.1\t0.9;\n",
      "\t9\t1\t125\t50\t0\t0\t1\t1\t0\t345\t1\t1.1\t0.9;\n",
      "];\n",
      "\n",
      "%% generator data\n",
      "%\tbus\tPg\tQg\tQmax\tQmin\tVg\tmBase\tstatus\tPmax\tPmin\tPc1\tPc2\tQc1min\tQc1max\tQc2min\tQc2max\tramp_agc\tramp_10\tramp_30\tramp_q\tapf\n",
      "mpc.gen = [\n",
      "\t1\t72.3\t27.03\t300\t-300\t1.04\t100\t1\t250\t10\t0\t0\t0\t0\t0\t0\t0\t0\t0\t0\t0;\n",
      "\t2\t163\t6.54\t300\t-300\t1.025\t100\t1\t300\t10\t0\t0\t0\t0\t0\t0\t0\t0\t0\t0\t0;\n",
      "\t3\t85\t-10.95\t300\t-300\t1.025\t100\t1\t270\t10\t0\t0\t0\t0\t0\t0\t0\t0\t0\t0\t0;\n",
      "];\n",
      "\n",
      "%% branch data\n",
      "%\tfbus\ttbus\tr\tx\tb\trateA\trateB\trateC\tratio\tangle\tstatus\tangmin\tangmax\n",
      "mpc.branch = [\n",
      "\t1\t4\t0\t0.0576\t0\t250\t250\t250\t0\t0\t1\t-360\t360;\n",
      "\t4\t5\t0.017\t0.092\t0.158\t250\t250\t250\t0\t0\t1\t-360\t360;\n",
      "\t5\t6\t0.039\t0.17\t0.358\t150\t150\t150\t0\t0\t1\t-360\t360;\n",
      "\t3\t6\t0\t0.0586\t0\t300\t300\t300\t0\t0\t1\t-360\t360;\n",
      "\t6\t7\t0.0119\t0.1008\t0.209\t150\t150\t150\t0\t0\t1\t-360\t360;\n",
      "\t7\t8\t0.0085\t0.072\t0.149\t250\t250\t250\t0\t0\t1\t-360\t360;\n",
      "\t8\t2\t0\t0.0625\t0\t250\t250\t250\t0\t0\t1\t-360\t360;\n",
      "\t8\t9\t0.032\t0.161\t0.306\t250\t250\t250\t0\t0\t1\t-360\t360;\n",
      "\t9\t4\t0.01\t0.085\t0.176\t250\t250\t250\t0\t0\t1\t-360\t360;\n",
      "];\n",
      "\n",
      "%%-----  OPF Data  -----%%\n",
      "%% generator cost data\n",
      "%\t1\tstartup\tshutdown\tn\tx1\ty1\t...\txn\tyn\n",
      "%\t2\tstartup\tshutdown\tn\tc(n-1)\t...\tc0\n",
      "mpc.gencost = [\n",
      "\t2\t1500\t0\t3\t0.11\t5\t150;\n",
      "\t2\t2000\t0\t3\t0.085\t1.2\t600;\n",
      "\t2\t3000\t0\t3\t0.1225\t1\t335;\n",
      "];\n",
      "\n"
     ]
    }
   ],
   "source": [
    "# Ensure case path is from matpower\n",
    "from matpower import path_matpower_cases\n",
    "\n",
    "file_path = f\"{path_matpower_cases}/case9.m\"\n",
    "\n",
    "with open(file_path, 'r') as file:\n",
    "    content = file.read()\n",
    "\n",
    "print(content)"
   ]
  },
  {
   "cell_type": "code",
   "execution_count": null,
   "id": "ef2ce5d6",
   "metadata": {},
   "outputs": [],
   "source": [
    "path = \"../data/case9.m\"\n",
    "cf = CaseFrames(path)"
   ]
  },
  {
   "cell_type": "code",
   "execution_count": null,
   "id": "9aa81abc",
   "metadata": {},
   "outputs": [
    {
     "data": {
      "text/plain": [
       "['version', 'baseMVA', 'bus', 'gen', 'branch', 'gencost']"
      ]
     },
     "execution_count": null,
     "metadata": {},
     "output_type": "execute_result"
    }
   ],
   "source": [
    "# Check Attributes\n",
    "cf.attributes"
   ]
  },
  {
   "cell_type": "code",
   "execution_count": null,
   "id": "513a5553",
   "metadata": {},
   "outputs": [
    {
     "data": {
      "text/html": [
       "<div>\n",
       "<style scoped>\n",
       "    .dataframe tbody tr th:only-of-type {\n",
       "        vertical-align: middle;\n",
       "    }\n",
       "\n",
       "    .dataframe tbody tr th {\n",
       "        vertical-align: top;\n",
       "    }\n",
       "\n",
       "    .dataframe thead th {\n",
       "        text-align: right;\n",
       "    }\n",
       "</style>\n",
       "<table border=\"1\" class=\"dataframe\">\n",
       "  <thead>\n",
       "    <tr style=\"text-align: right;\">\n",
       "      <th></th>\n",
       "      <th>GEN_BUS</th>\n",
       "      <th>PG</th>\n",
       "      <th>QG</th>\n",
       "      <th>QMAX</th>\n",
       "      <th>QMIN</th>\n",
       "      <th>VG</th>\n",
       "      <th>MBASE</th>\n",
       "      <th>GEN_STATUS</th>\n",
       "      <th>PMAX</th>\n",
       "      <th>PMIN</th>\n",
       "      <th>...</th>\n",
       "      <th>PC2</th>\n",
       "      <th>QC1MIN</th>\n",
       "      <th>QC1MAX</th>\n",
       "      <th>QC2MIN</th>\n",
       "      <th>QC2MAX</th>\n",
       "      <th>RAMP_AGC</th>\n",
       "      <th>RAMP_10</th>\n",
       "      <th>RAMP_30</th>\n",
       "      <th>RAMP_Q</th>\n",
       "      <th>APF</th>\n",
       "    </tr>\n",
       "  </thead>\n",
       "  <tbody>\n",
       "    <tr>\n",
       "      <th>1</th>\n",
       "      <td>1.0</td>\n",
       "      <td>72.3</td>\n",
       "      <td>27.03</td>\n",
       "      <td>300.0</td>\n",
       "      <td>-300.0</td>\n",
       "      <td>1.040</td>\n",
       "      <td>100.0</td>\n",
       "      <td>1.0</td>\n",
       "      <td>250.0</td>\n",
       "      <td>10.0</td>\n",
       "      <td>...</td>\n",
       "      <td>0.0</td>\n",
       "      <td>0.0</td>\n",
       "      <td>0.0</td>\n",
       "      <td>0.0</td>\n",
       "      <td>0.0</td>\n",
       "      <td>0.0</td>\n",
       "      <td>0.0</td>\n",
       "      <td>0.0</td>\n",
       "      <td>0.0</td>\n",
       "      <td>0.0</td>\n",
       "    </tr>\n",
       "    <tr>\n",
       "      <th>2</th>\n",
       "      <td>2.0</td>\n",
       "      <td>163.0</td>\n",
       "      <td>6.54</td>\n",
       "      <td>300.0</td>\n",
       "      <td>-300.0</td>\n",
       "      <td>1.025</td>\n",
       "      <td>100.0</td>\n",
       "      <td>1.0</td>\n",
       "      <td>300.0</td>\n",
       "      <td>10.0</td>\n",
       "      <td>...</td>\n",
       "      <td>0.0</td>\n",
       "      <td>0.0</td>\n",
       "      <td>0.0</td>\n",
       "      <td>0.0</td>\n",
       "      <td>0.0</td>\n",
       "      <td>0.0</td>\n",
       "      <td>0.0</td>\n",
       "      <td>0.0</td>\n",
       "      <td>0.0</td>\n",
       "      <td>0.0</td>\n",
       "    </tr>\n",
       "    <tr>\n",
       "      <th>3</th>\n",
       "      <td>3.0</td>\n",
       "      <td>85.0</td>\n",
       "      <td>-10.95</td>\n",
       "      <td>300.0</td>\n",
       "      <td>-300.0</td>\n",
       "      <td>1.025</td>\n",
       "      <td>100.0</td>\n",
       "      <td>1.0</td>\n",
       "      <td>270.0</td>\n",
       "      <td>10.0</td>\n",
       "      <td>...</td>\n",
       "      <td>0.0</td>\n",
       "      <td>0.0</td>\n",
       "      <td>0.0</td>\n",
       "      <td>0.0</td>\n",
       "      <td>0.0</td>\n",
       "      <td>0.0</td>\n",
       "      <td>0.0</td>\n",
       "      <td>0.0</td>\n",
       "      <td>0.0</td>\n",
       "      <td>0.0</td>\n",
       "    </tr>\n",
       "  </tbody>\n",
       "</table>\n",
       "<p>3 rows × 21 columns</p>\n",
       "</div>"
      ],
      "text/plain": [
       "   GEN_BUS     PG     QG   QMAX   QMIN     VG  MBASE  GEN_STATUS   PMAX  PMIN  \\\n",
       "1      1.0   72.3  27.03  300.0 -300.0  1.040  100.0         1.0  250.0  10.0   \n",
       "2      2.0  163.0   6.54  300.0 -300.0  1.025  100.0         1.0  300.0  10.0   \n",
       "3      3.0   85.0 -10.95  300.0 -300.0  1.025  100.0         1.0  270.0  10.0   \n",
       "\n",
       "   ...  PC2  QC1MIN  QC1MAX  QC2MIN  QC2MAX  RAMP_AGC  RAMP_10  RAMP_30  \\\n",
       "1  ...  0.0     0.0     0.0     0.0     0.0       0.0      0.0      0.0   \n",
       "2  ...  0.0     0.0     0.0     0.0     0.0       0.0      0.0      0.0   \n",
       "3  ...  0.0     0.0     0.0     0.0     0.0       0.0      0.0      0.0   \n",
       "\n",
       "   RAMP_Q  APF  \n",
       "1     0.0  0.0  \n",
       "2     0.0  0.0  \n",
       "3     0.0  0.0  \n",
       "\n",
       "[3 rows x 21 columns]"
      ]
     },
     "execution_count": null,
     "metadata": {},
     "output_type": "execute_result"
    }
   ],
   "source": [
    "cf.gen"
   ]
  },
  {
   "cell_type": "code",
   "execution_count": null,
   "id": "5ee6bd47",
   "metadata": {},
   "outputs": [
    {
     "data": {
      "text/plain": [
       "Index(['GEN_BUS', 'PG', 'QG', 'QMAX', 'QMIN', 'VG', 'MBASE', 'GEN_STATUS',\n",
       "       'PMAX', 'PMIN', 'PC1', 'PC2', 'QC1MIN', 'QC1MAX', 'QC2MIN', 'QC2MAX',\n",
       "       'RAMP_AGC', 'RAMP_10', 'RAMP_30', 'RAMP_Q', 'APF'],\n",
       "      dtype='object')"
      ]
     },
     "execution_count": null,
     "metadata": {},
     "output_type": "execute_result"
    }
   ],
   "source": [
    "# Check wether there is Generator Status or not\n",
    "cf.gen.columns"
   ]
  },
  {
   "cell_type": "code",
   "execution_count": null,
   "id": "5e9d9f1b",
   "metadata": {},
   "outputs": [
    {
     "data": {
      "text/plain": [
       "1     72.3\n",
       "2    163.0\n",
       "3     85.0\n",
       "Name: PG, dtype: float64"
      ]
     },
     "execution_count": null,
     "metadata": {},
     "output_type": "execute_result"
    }
   ],
   "source": [
    "cf.gen['PG']"
   ]
  },
  {
   "cell_type": "code",
   "execution_count": null,
   "id": "f792d427",
   "metadata": {},
   "outputs": [
    {
     "data": {
      "text/plain": [
       "1    1.0\n",
       "2    1.0\n",
       "3    1.0\n",
       "Name: GEN_STATUS, dtype: float64"
      ]
     },
     "execution_count": null,
     "metadata": {},
     "output_type": "execute_result"
    }
   ],
   "source": [
    "cf.gen['GEN_STATUS']"
   ]
  },
  {
   "cell_type": "markdown",
   "id": "a3d5a0ce",
   "metadata": {},
   "source": [
    "## Try to turn off generator status at gen 2"
   ]
  },
  {
   "cell_type": "code",
   "execution_count": null,
   "id": "c1be3149",
   "metadata": {},
   "outputs": [
    {
     "name": "stdout",
     "output_type": "stream",
     "text": [
      "7\n"
     ]
    }
   ],
   "source": [
    "# Because index in Python is from 0 then Gen Status columns must be in index 7\n",
    "# This code is just for checking the truth\n",
    "import pandas as pd\n",
    "\n",
    "# cols copied from cf.gen.columns\n",
    "cols = pd.Index([\n",
    "    'GEN_BUS', 'PG', 'QG', 'QMAX', 'QMIN', 'VG', 'MBASE', 'GEN_STATUS',\n",
    "    'PMAX', 'PMIN', 'PC1', 'PC2', 'QC1MIN', 'QC1MAX', 'QC2MIN', 'QC2MAX',\n",
    "    'RAMP_AGC', 'RAMP_10', 'RAMP_30', 'RAMP_Q', 'APF'\n",
    "])\n",
    "\n",
    "# cari posisi GEN_STATUS\n",
    "idx = cols.get_loc(\"GEN_STATUS\")\n",
    "print(idx)\n"
   ]
  },
  {
   "cell_type": "code",
   "execution_count": null,
   "id": "00de7b2c",
   "metadata": {},
   "outputs": [
    {
     "data": {
      "text/plain": [
       "1    1.0\n",
       "2    1.0\n",
       "3    1.0\n",
       "Name: GEN_STATUS, dtype: float64"
      ]
     },
     "execution_count": null,
     "metadata": {},
     "output_type": "execute_result"
    }
   ],
   "source": [
    "cf.gen.iloc[0:3,7]"
   ]
  },
  {
   "cell_type": "code",
   "execution_count": null,
   "id": "899a8c59",
   "metadata": {},
   "outputs": [
    {
     "data": {
      "text/plain": [
       "np.float64(1.0)"
      ]
     },
     "execution_count": null,
     "metadata": {},
     "output_type": "execute_result"
    }
   ],
   "source": [
    "# If we want to know exact value must understand index Python, because gen and gen status have 3 then row index are 0,1,2\n",
    "# Hence if we want to take gen status value from gen 2, \n",
    "# we must write index 1 (generator 2) row and index 7 columns from caseframes\n",
    "cf.gen.iloc[1,7]"
   ]
  },
  {
   "cell_type": "code",
   "execution_count": null,
   "id": "dd62d8e2",
   "metadata": {},
   "outputs": [],
   "source": [
    "# Change gen status value of gen 2 to 0 (zero)\n",
    "cf.gen.iloc[1,7] = 0"
   ]
  },
  {
   "cell_type": "code",
   "execution_count": null,
   "id": "48ac17cb",
   "metadata": {},
   "outputs": [
    {
     "data": {
      "text/plain": [
       "1    1.0\n",
       "2    0.0\n",
       "3    1.0\n",
       "Name: GEN_STATUS, dtype: float64"
      ]
     },
     "execution_count": null,
     "metadata": {},
     "output_type": "execute_result"
    }
   ],
   "source": [
    "# Check\n",
    "cf.gen['GEN_STATUS']"
   ]
  },
  {
   "cell_type": "code",
   "execution_count": null,
   "id": "7a26810f",
   "metadata": {},
   "outputs": [
    {
     "name": "stdout",
     "output_type": "stream",
     "text": [
      "\n",
      "MATPOWER Version 8.0, 17-May-2024\n",
      "Optimal Power Flow -- AC-polar-power formulation\n",
      "MATPOWER Interior Point Solver -- MIPS, Version 1.5.1, 10-May-2024\n",
      " (using built-in linear solver)\n",
      " it    objective   step size   feascond     gradcond     compcond     costcond\n",
      "----  ------------ --------- ------------ ------------ ------------ ------------\n",
      "  0          5535                    0.14       0.1765      57.0117            0\n",
      "  1     7197.6704    0.52932    0.0149403      7.34106      11.3047     0.107027\n",
      "  2     7373.1882    0.42799   0.00136366     0.755348        2.122    0.0102059\n",
      "  3     7371.1188   0.021125  1.87368e-05    0.0689365     0.222036  0.000119116\n",
      "  4     7366.8124   0.043537  3.30514e-05   0.00636179    0.0224058  0.000247908\n",
      "  5     7360.7088   0.072788  0.000218749  0.000746286   0.00422756  0.000351449\n",
      "  6      7341.446    0.23039   0.00171759   0.00268994   0.00111216   0.00110956\n",
      "  7      7335.251    0.11765  0.000371412  0.000212541  0.000179507  0.000357238\n",
      "  8     7335.3178   0.017129  0.000133579  0.000373476  2.92982e-05  3.85396e-06\n",
      "  9     7335.4187  0.0012821  3.13026e-08  1.39948e-07   2.9363e-06  5.81874e-06\n",
      " 10     7335.4166 0.00012496  1.48916e-10  5.30344e-10    2.937e-07  1.18397e-07\n",
      "Converged!\n",
      "OPF successful\n",
      "\n",
      "Converged in 0.70 seconds\n",
      "Objective Function Value = 7335.42 $/hr\n",
      "================================================================================\n",
      "|     System Summary                                                           |\n",
      "================================================================================\n",
      "\n",
      "How many?                How much?              P (MW)            Q (MVAr)\n",
      "---------------------    -------------------  -------------  -----------------\n",
      "Buses              9     Total Gen Capacity     820.0        -900.0 to 900.0\n",
      "Generators         3     On-line Capacity       520.0        -600.0 to 600.0\n",
      "Committed Gens     2     Generation (actual)    318.5               4.5\n",
      "Loads              3     Load                   315.0             115.0\n",
      "  Fixed            3       Fixed                315.0             115.0\n",
      "  Dispatchable     0       Dispatchable          -0.0 of -0.0      -0.0\n",
      "Shunts             0     Shunt (inj)             -0.0               0.0\n",
      "Branches           9     Losses (I^2 * Z)         3.46             50.13\n",
      "Transformers       0     Branch Charging (inj)     -              160.6\n",
      "Inter-ties         0     Total Inter-tie Flow     0.0               0.0\n",
      "Areas              1\n",
      "\n",
      "                          Minimum                      Maximum\n",
      "                 -------------------------  --------------------------------\n",
      "Voltage Magnitude   1.072 p.u. @ bus 9          1.100 p.u. @ bus 6\n",
      "Voltage Angle      -9.10 deg   @ bus 9          1.81 deg   @ bus 3\n",
      "P Losses (I^2*R)             -                  1.24 MW    @ line 6-7\n",
      "Q Losses (I^2*X)             -                 12.38 MVAr  @ line 1-4\n",
      "Lambda P           39.72 $/MWh @ bus 3         41.09 $/MWh @ bus 9\n",
      "Lambda Q           -0.02 $/MWh @ bus 2          0.22 $/MWh @ bus 9\n",
      "\n",
      "================================================================================\n",
      "|     Bus Data                                                                 |\n",
      "================================================================================\n",
      " Bus      Voltage          Generation             Load          Lambda($/MVA-hr)\n",
      "  #   Mag(pu) Ang(deg)   P (MW)   Q (MVAr)   P (MW)   Q (MVAr)     P        Q\n",
      "----- ------- --------  --------  --------  --------  --------  -------  -------\n",
      "    1  1.100    0.000*   160.43     16.33       -         -      40.294     -\n",
      "    2  1.093   -8.440       -         -         -         -      40.771  -0.019\n",
      "    3  1.090    1.806    158.03    -11.79       -         -      39.717     -\n",
      "    4  1.095   -4.401       -         -         -         -      40.299   0.057\n",
      "    5  1.085   -6.368       -         -       90.00     30.00    40.865   0.072\n",
      "    6  1.100   -2.622       -         -         -         -      39.717     -\n",
      "    7  1.084   -8.003       -         -      100.00     35.00    40.674   0.076\n",
      "    8  1.093   -8.440       -         -         -         -      40.771  -0.019\n",
      "    9  1.072   -9.099       -         -      125.00     50.00    41.087   0.222\n",
      "                        --------  --------  --------  --------\n",
      "               Total:    318.46      4.54    315.00    115.00\n",
      "\n",
      "================================================================================\n",
      "|     Branch Data                                                              |\n",
      "================================================================================\n",
      "Brnch   From   To    From Bus Injection   To Bus Injection     Loss (I^2 * Z)\n",
      "  #     Bus    Bus    P (MW)   Q (MVAr)   P (MW)   Q (MVAr)   P (MW)   Q (MVAr)\n",
      "-----  -----  -----  --------  --------  --------  --------  --------  --------\n",
      "   1      1      4    160.43     16.33   -160.43     -3.95    -0.000     12.38\n",
      "   2      4      5     44.98     -5.81    -44.70    -11.40     0.289      1.56\n",
      "   3      5      6    -45.30    -18.60     45.99    -21.17     0.682      2.97\n",
      "   4      3      6    158.03    -11.79   -158.03     24.17     0.000     12.38\n",
      "   5      6      7    112.04     -3.00   -110.80    -11.38     1.244     10.54\n",
      "   6      7      8     10.80    -23.62    -10.77      6.17     0.024      0.21\n",
      "   7      8      2      0.00      0.00      0.00      0.00     0.000      0.00\n",
      "   8      8      9     10.77     -6.17    -10.70    -29.33     0.070      0.35\n",
      "   9      9      4   -114.30    -20.67    115.44      9.76     1.147      9.75\n",
      "                                                             --------  --------\n",
      "                                                    Total:     3.456     50.13\n",
      "\n",
      "================================================================================\n",
      "|     Voltage Constraints                                                      |\n",
      "================================================================================\n",
      "Bus #  Vmin mu    Vmin    |V|   Vmax    Vmax mu\n",
      "-----  --------   -----  -----  -----   --------\n",
      "    1      -      0.900  1.100  1.100   108.451\n",
      "    6      -      0.900  1.100  1.100   175.889\n"
     ]
    }
   ],
   "source": [
    "# TRY USING ACOPF\n",
    "mpc = cf.to_mpc()\n",
    "mpopt = m.mpoption('verbose', 2)\n",
    "[baseMVA, bus, gen, gencost, branch, f, success, et] = m.runopf(mpc, mpopt, nout='max_nout')"
   ]
  },
  {
   "cell_type": "markdown",
   "id": "b395c61d",
   "metadata": {},
   "source": [
    "# Case 2: Edit Generator Status Via Matpower Style (Matrix Numpy in Matpower case (mpc) structure), *Simulation Using Optimal Power Flow and Using Eval*."
   ]
  },
  {
   "cell_type": "code",
   "execution_count": null,
   "id": "fb25a63a",
   "metadata": {},
   "outputs": [
    {
     "name": "stdout",
     "output_type": "stream",
     "text": [
      "\n",
      "MATPOWER Version 8.0, 17-May-2024\n",
      "Optimal Power Flow -- AC-polar-power formulation\n",
      "MATPOWER Interior Point Solver -- MIPS, Version 1.5.1, 10-May-2024\n",
      " (using built-in linear solver)\n",
      " it    objective   step size   feascond     gradcond     compcond     costcond\n",
      "----  ------------ --------- ------------ ------------ ------------ ------------\n",
      "  0      8363.125                   0.155       0.1765      57.1483            0\n",
      "  1     5307.5519    0.68632   0.00900309      8.30505      15.6381     0.166397\n",
      "  2     5391.0949    0.24288  0.000359195     0.630698      2.20652   0.00545763\n",
      "  3     5352.5722   0.088637   3.7341e-05     0.141404     0.216699   0.00250292\n",
      "  4     5315.4636    0.17189  0.000106315    0.0190754      0.02128    0.0024171\n",
      "  5     5312.3257   0.066353  0.000123278   0.00135236   0.00351135  0.000204886\n",
      "  6     5301.3809    0.19111   0.00120494   0.00174642  0.000962847  0.000714764\n",
      "  7     5296.7947    0.11693  0.000322236  7.55989e-05  0.000161495  0.000299729\n",
      "  8     5296.6848   0.042477  6.97202e-05  0.000191987  3.86228e-05  7.18437e-06\n",
      "  9     5296.6979   0.017789  3.27991e-06  0.000142097  1.15202e-05  8.58724e-07\n",
      " 10     5296.6885  0.0073711  5.75478e-07  1.89224e-07  1.39248e-06  6.13354e-07\n",
      " 11     5296.6865  0.0024437  6.22804e-08  2.14553e-08  1.57797e-07   1.3128e-07\n",
      "Converged!\n",
      "OPF successful\n",
      "\n",
      "Converged in 0.78 seconds\n",
      "Objective Function Value = 5296.69 $/hr\n",
      "================================================================================\n",
      "|     System Summary                                                           |\n",
      "================================================================================\n",
      "\n",
      "How many?                How much?              P (MW)            Q (MVAr)\n",
      "---------------------    -------------------  -------------  -----------------\n",
      "Buses              9     Total Gen Capacity     820.0        -900.0 to 900.0\n",
      "Generators         3     On-line Capacity       820.0        -900.0 to 900.0\n",
      "Committed Gens     3     Generation (actual)    318.3              -9.6\n",
      "Loads              3     Load                   315.0             115.0\n",
      "  Fixed            3       Fixed                315.0             115.0\n",
      "  Dispatchable     0       Dispatchable          -0.0 of -0.0      -0.0\n",
      "Shunts             0     Shunt (inj)             -0.0               0.0\n",
      "Branches           9     Losses (I^2 * Z)         3.31             36.46\n",
      "Transformers       0     Branch Charging (inj)     -              161.1\n",
      "Inter-ties         0     Total Inter-tie Flow     0.0               0.0\n",
      "Areas              1\n",
      "\n",
      "                          Minimum                      Maximum\n",
      "                 -------------------------  --------------------------------\n",
      "Voltage Magnitude   1.072 p.u. @ bus 9          1.100 p.u. @ bus 8\n",
      "Voltage Angle      -4.62 deg   @ bus 9          4.89 deg   @ bus 2\n",
      "P Losses (I^2*R)             -                  1.39 MW    @ line 8-9\n",
      "Q Losses (I^2*X)             -                  9.36 MVAr  @ line 8-2\n",
      "Lambda P           24.03 $/MWh @ bus 2         25.00 $/MWh @ bus 9\n",
      "Lambda Q           -0.00 $/MWh @ bus 3          0.11 $/MWh @ bus 9\n",
      "\n",
      "================================================================================\n",
      "|     Bus Data                                                                 |\n",
      "================================================================================\n",
      " Bus      Voltage          Generation             Load          Lambda($/MVA-hr)\n",
      "  #   Mag(pu) Ang(deg)   P (MW)   Q (MVAr)   P (MW)   Q (MVAr)     P        Q\n",
      "----- ------- --------  --------  --------  --------  --------  -------  -------\n",
      "    1  1.100    0.000*    89.80     12.94       -         -      24.756     -\n",
      "    2  1.097    4.893    134.32      0.05       -         -      24.035     -\n",
      "    3  1.087    3.249     94.19    -22.62       -         -      24.076     -\n",
      "    4  1.094   -2.463       -         -         -         -      24.756   0.004\n",
      "    5  1.084   -3.982       -         -       90.00     30.00    24.998   0.027\n",
      "    6  1.100    0.602       -         -         -         -      24.076     -\n",
      "    7  1.089   -1.197       -         -      100.00     35.00    24.254   0.036\n",
      "    8  1.100    0.905       -         -         -         -      24.035     -\n",
      "    9  1.072   -4.616       -         -      125.00     50.00    24.999   0.112\n",
      "                        --------  --------  --------  --------\n",
      "               Total:    318.31     -9.63    315.00    115.00\n",
      "\n",
      "================================================================================\n",
      "|     Branch Data                                                              |\n",
      "================================================================================\n",
      "Brnch   From   To    From Bus Injection   To Bus Injection     Loss (I^2 * Z)\n",
      "  #     Bus    Bus    P (MW)   Q (MVAr)   P (MW)   Q (MVAr)   P (MW)   Q (MVAr)\n",
      "-----  -----  -----  --------  --------  --------  --------  --------  --------\n",
      "   1      1      4     89.80     12.94    -89.80     -9.02     0.000      3.92\n",
      "   2      4      5     35.22     -3.90    -35.04    -13.87     0.181      0.98\n",
      "   3      5      6    -54.96    -16.13     55.97    -22.18     1.010      4.40\n",
      "   4      3      6     94.19    -22.62    -94.19     27.28     0.000      4.66\n",
      "   5      6      7     38.22     -5.10    -38.07    -18.68     0.149      1.26\n",
      "   6      7      8    -61.93    -16.32     62.21      0.82     0.279      2.36\n",
      "   7      8      2   -134.32      9.32    134.32      0.05    -0.000      9.36\n",
      "   8      8      9     72.11    -10.14    -70.72    -18.94     1.394      7.01\n",
      "   9      9      4    -54.28    -31.06     54.58     12.92     0.295      2.51\n",
      "                                                             --------  --------\n",
      "                                                    Total:     3.307     36.46\n",
      "\n",
      "================================================================================\n",
      "|     Voltage Constraints                                                      |\n",
      "================================================================================\n",
      "Bus #  Vmin mu    Vmin    |V|   Vmax    Vmax mu\n",
      "-----  --------   -----  -----  -----   --------\n",
      "    1      -      0.900  1.100  1.100     8.384\n",
      "    6      -      0.900  1.100  1.100    75.329\n",
      "    8      -      0.900  1.100  1.100    77.457\n"
     ]
    }
   ],
   "source": [
    "# Base Case Running Simulation\n",
    "\n",
    "from matpower import start_instance\n",
    "\n",
    "m = start_instance()\n",
    "\n",
    "m.eval(\n",
    "    \"\"\"\n",
    "    mpopt = mpoption('verbose', 2);\n",
    "    mpc = loadcase('case9');\n",
    "    _r1 = runopf(mpc, mpopt);\n",
    "    \"\"\"\n",
    ")\n",
    "\n",
    "# fech data to python (.eval is used because .pull is not working in acessing field)\n",
    "r1_mpc = m.eval(\n",
    "    \"struct(\"\n",
    "    \" 'baseMVA', _r1.baseMVA, 'version', _r1.version, 'bus', _r1.bus, 'gen', _r1.gen,\"\n",
    "    \" 'branch', _r1.branch, 'gencost', _r1.gencost);\"\n",
    ")"
   ]
  },
  {
   "cell_type": "markdown",
   "id": "69ae70cf",
   "metadata": {},
   "source": [
    "## Try to turn off generator status at gen 2"
   ]
  },
  {
   "cell_type": "code",
   "execution_count": null,
   "id": "edb7dbb0",
   "metadata": {},
   "outputs": [
    {
     "data": {
      "text/plain": [
       "1"
      ]
     },
     "execution_count": null,
     "metadata": {},
     "output_type": "execute_result"
    }
   ],
   "source": [
    "# r1_mpc['gen'] is a numpy array containing generator data.\n",
    "\n",
    "# The columns are indexed using variables obtained from m.idx_gen().\n",
    "# For example:\n",
    "\n",
    "# PG = column for real power output (MW).\n",
    "# PMAX = column for the maximum generator limit.\n",
    "# GEN_STATUS = column for status (1 = on, 0 = off).\n",
    "\n",
    "# The Cons for this case 2 = if we don't check exactly how many generators in case that will be use in simulation we can not guess the gen_index\n",
    "# So for the Solutions, may you that use this case 2 as a step simulation in your research/experiment check first how many PG and Generator Status that available\n",
    "# from the use of caseframes available at matpowercaseframes too.\n",
    "# The Pros : for faster looping simulation it is far more better if use in many hour scenario (maybe, haven't test it yet)\n",
    "\n",
    "[GEN_BUS, PG, QG, QMAX, QMIN, VG, MBASE, GEN_STATUS, PMAX, PMIN, \n",
    " MU_PMAX, MU_PMIN, MU_QMAX, MU_QMIN, PC1, PC2, QC1MIN, QC1MAX, \n",
    " QC2MIN, QC2MAX, RAMP_AGC, RAMP_10, RAMP_30, RAMP_Q, APF] = m.idx_gen(nout='max_nout')\n",
    "\n",
    "gen_index = 2\n",
    "gen_index_ = int(gen_index - 1)\n",
    "gen_index_\n"
   ]
  },
  {
   "cell_type": "code",
   "execution_count": null,
   "id": "54defbcd",
   "metadata": {},
   "outputs": [],
   "source": [
    "GEN_STATUS_ = int(GEN_STATUS - 1) # -1 due to python indexing start from 0\n",
    "r1_mpc['gen'][gen_index_,GEN_STATUS_] = 0"
   ]
  },
  {
   "cell_type": "code",
   "execution_count": null,
   "id": "af6f036d",
   "metadata": {},
   "outputs": [
    {
     "name": "stdout",
     "output_type": "stream",
     "text": [
      "[1. 0. 1.]\n"
     ]
    }
   ],
   "source": [
    "#Check the status of generators, generator 2 must be turn off\n",
    "print(r1_mpc['gen'][:, GEN_STATUS_])"
   ]
  },
  {
   "cell_type": "code",
   "execution_count": null,
   "id": "b4338940",
   "metadata": {},
   "outputs": [
    {
     "name": "stdout",
     "output_type": "stream",
     "text": [
      "\n",
      "MATPOWER Version 8.0, 17-May-2024\n",
      "Optimal Power Flow -- AC-polar-power formulation\n",
      "MATPOWER Interior Point Solver -- MIPS, Version 1.5.1, 10-May-2024\n",
      " (using built-in linear solver)\n",
      " it    objective   step size   feascond     gradcond     compcond     costcond\n",
      "----  ------------ --------- ------------ ------------ ------------ ------------\n",
      "  0          5535                    0.14       0.1765      57.0117            0\n",
      "  1     7197.6704    0.52932    0.0149403      7.34106      11.3047     0.107027\n",
      "  2     7373.1882    0.42799   0.00136366     0.755348        2.122    0.0102059\n",
      "  3     7371.1188   0.021125  1.87368e-05    0.0689365     0.222036  0.000119116\n",
      "  4     7366.8124   0.043537  3.30514e-05   0.00636179    0.0224058  0.000247908\n",
      "  5     7360.7088   0.072788  0.000218749  0.000746286   0.00422756  0.000351449\n",
      "  6      7341.446    0.23039   0.00171759   0.00268994   0.00111216   0.00110956\n",
      "  7      7335.251    0.11765  0.000371412  0.000212541  0.000179507  0.000357238\n",
      "  8     7335.3178   0.017129  0.000133579  0.000373476  2.92982e-05  3.85396e-06\n",
      "  9     7335.4187  0.0012821  3.13026e-08  1.39948e-07   2.9363e-06  5.81874e-06\n",
      " 10     7335.4166 0.00012496  1.48916e-10  5.30344e-10    2.937e-07  1.18397e-07\n",
      "Converged!\n",
      "OPF successful\n",
      "\n",
      "Converged in 0.47 seconds\n",
      "Objective Function Value = 7335.42 $/hr\n",
      "================================================================================\n",
      "|     System Summary                                                           |\n",
      "================================================================================\n",
      "\n",
      "How many?                How much?              P (MW)            Q (MVAr)\n",
      "---------------------    -------------------  -------------  -----------------\n",
      "Buses              9     Total Gen Capacity     820.0        -900.0 to 900.0\n",
      "Generators         3     On-line Capacity       520.0        -600.0 to 600.0\n",
      "Committed Gens     2     Generation (actual)    318.5               4.5\n",
      "Loads              3     Load                   315.0             115.0\n",
      "  Fixed            3       Fixed                315.0             115.0\n",
      "  Dispatchable     0       Dispatchable          -0.0 of -0.0      -0.0\n",
      "Shunts             0     Shunt (inj)             -0.0               0.0\n",
      "Branches           9     Losses (I^2 * Z)         3.46             50.13\n",
      "Transformers       0     Branch Charging (inj)     -              160.6\n",
      "Inter-ties         0     Total Inter-tie Flow     0.0               0.0\n",
      "Areas              1\n",
      "\n",
      "                          Minimum                      Maximum\n",
      "                 -------------------------  --------------------------------\n",
      "Voltage Magnitude   1.072 p.u. @ bus 9          1.100 p.u. @ bus 6\n",
      "Voltage Angle      -9.10 deg   @ bus 9          1.81 deg   @ bus 3\n",
      "P Losses (I^2*R)             -                  1.24 MW    @ line 6-7\n",
      "Q Losses (I^2*X)             -                 12.38 MVAr  @ line 1-4\n",
      "Lambda P           39.72 $/MWh @ bus 3         41.09 $/MWh @ bus 9\n",
      "Lambda Q           -0.02 $/MWh @ bus 2          0.22 $/MWh @ bus 9\n",
      "\n",
      "================================================================================\n",
      "|     Bus Data                                                                 |\n",
      "================================================================================\n",
      " Bus      Voltage          Generation             Load          Lambda($/MVA-hr)\n",
      "  #   Mag(pu) Ang(deg)   P (MW)   Q (MVAr)   P (MW)   Q (MVAr)     P        Q\n",
      "----- ------- --------  --------  --------  --------  --------  -------  -------\n",
      "    1  1.100    0.000*   160.43     16.33       -         -      40.294     -\n",
      "    2  1.093   -8.440       -         -         -         -      40.771  -0.019\n",
      "    3  1.090    1.806    158.03    -11.79       -         -      39.717     -\n",
      "    4  1.095   -4.401       -         -         -         -      40.299   0.057\n",
      "    5  1.085   -6.368       -         -       90.00     30.00    40.865   0.072\n",
      "    6  1.100   -2.622       -         -         -         -      39.717     -\n",
      "    7  1.084   -8.003       -         -      100.00     35.00    40.674   0.076\n",
      "    8  1.093   -8.440       -         -         -         -      40.771  -0.019\n",
      "    9  1.072   -9.099       -         -      125.00     50.00    41.087   0.222\n",
      "                        --------  --------  --------  --------\n",
      "               Total:    318.46      4.54    315.00    115.00\n",
      "\n",
      "================================================================================\n",
      "|     Branch Data                                                              |\n",
      "================================================================================\n",
      "Brnch   From   To    From Bus Injection   To Bus Injection     Loss (I^2 * Z)\n",
      "  #     Bus    Bus    P (MW)   Q (MVAr)   P (MW)   Q (MVAr)   P (MW)   Q (MVAr)\n",
      "-----  -----  -----  --------  --------  --------  --------  --------  --------\n",
      "   1      1      4    160.43     16.33   -160.43     -3.95    -0.000     12.38\n",
      "   2      4      5     44.98     -5.81    -44.70    -11.40     0.289      1.56\n",
      "   3      5      6    -45.30    -18.60     45.99    -21.17     0.682      2.97\n",
      "   4      3      6    158.03    -11.79   -158.03     24.17     0.000     12.38\n",
      "   5      6      7    112.04     -3.00   -110.80    -11.38     1.244     10.54\n",
      "   6      7      8     10.80    -23.62    -10.77      6.17     0.024      0.21\n",
      "   7      8      2      0.00      0.00      0.00      0.00     0.000      0.00\n",
      "   8      8      9     10.77     -6.17    -10.70    -29.33     0.070      0.35\n",
      "   9      9      4   -114.30    -20.67    115.44      9.76     1.147      9.75\n",
      "                                                             --------  --------\n",
      "                                                    Total:     3.456     50.13\n",
      "\n",
      "================================================================================\n",
      "|     Voltage Constraints                                                      |\n",
      "================================================================================\n",
      "Bus #  Vmin mu    Vmin    |V|   Vmax    Vmax mu\n",
      "-----  --------   -----  -----  -----   --------\n",
      "    1      -      0.900  1.100  1.100   108.451\n",
      "    6      -      0.900  1.100  1.100   175.889\n"
     ]
    }
   ],
   "source": [
    "#re-run power flow with modified generator\n",
    "# push back value to octave client\n",
    "m.push('mpc', r1_mpc) # push r1_mpc in python to mpc in octave\n",
    "\n",
    "# test if we can retrive pushed value\n",
    "mpc = m.pull('mpc')\n",
    "\n",
    "# test if our pushed variable can be used\n",
    "m.eval(\"_r1 = runopf(mpc, mpopt);\")"
   ]
  },
  {
   "cell_type": "markdown",
   "id": "3d38d786",
   "metadata": {},
   "source": [
    "Recaps:\n",
    " 1. Case 1 = Used matpowercaseframes, for understand and trying far more better because it is neat and easy to understand code structure to modify (from my point of view),\n",
    "\n",
    " 1. Case 2 = Direct approach, for simulation looping I guess it is more efficient but not too friendly understand the code structure to modify (from my point of view).\n",
    "\n",
    " The points : \n",
    " 1. If you really have intention from the first and know what generators location that you want to turn off better use matpowercaseframes (Case 1) then simulate it, under assumptions that you have known what results from base case (*my opinion: use different scripts to run base case and save result to excel*).\n",
    "\n",
    " 1. But, if you want to see base case results simulation, modify and then rerun modify version to see results simulation better use Case 2, for looping there will be different scripts."
   ]
  }
 ],
 "metadata": {
  "kernelspec": {
   "display_name": "Python 3",
   "language": "python",
   "name": "python3"
  },
  "language_info": {
   "codemirror_mode": {
    "name": "ipython",
    "version": 3
   },
   "file_extension": ".py",
   "mimetype": "text/x-python",
   "name": "python",
   "nbconvert_exporter": "python",
   "pygments_lexer": "ipython3"
  }
 },
 "nbformat": 4,
 "nbformat_minor": 5
}
