{
 "cells": [
  {
   "cell_type": "markdown",
   "id": "17ea24f2",
   "metadata": {},
   "source": [
    "# The Purpose Of this Experiment is to Loop Generator in Case 9 Bus IEEE by Matpower, *Simulation Use Optimal Alternating Current Power Flow (OPF) with default Newton Raphson Solver*."
   ]
  },
  {
   "cell_type": "code",
   "execution_count": 42,
   "id": "ef3f7239",
   "metadata": {},
   "outputs": [
    {
     "name": "stdout",
     "output_type": "stream",
     "text": [
      "The autoreload extension is already loaded. To reload it, use:\n",
      "  %reload_ext autoreload\n"
     ]
    }
   ],
   "source": [
    "%load_ext autoreload\n",
    "%autoreload 2"
   ]
  },
  {
   "cell_type": "markdown",
   "id": "2f264614",
   "metadata": {},
   "source": [
    "Before Use Loop each Case Experiment will try to simulate and understand first what will be happen if change PMAX limit from generator and generator status."
   ]
  },
  {
   "cell_type": "markdown",
   "id": "a493a784",
   "metadata": {},
   "source": [
    "# Base Case 9 Bus in MatpowerCaseFrames"
   ]
  },
  {
   "cell_type": "code",
   "execution_count": 43,
   "id": "6122b810",
   "metadata": {},
   "outputs": [],
   "source": [
    "from matpower import start_instance\n",
    "from matpowercaseframes import CaseFrames\n",
    "\n",
    "m = start_instance()\n",
    "\n",
    "path = \"../data/case9.m\"\n",
    "cf = CaseFrames(path)"
   ]
  },
  {
   "cell_type": "code",
   "execution_count": 44,
   "id": "25c8ba0e",
   "metadata": {},
   "outputs": [
    {
     "data": {
      "text/plain": [
       "1     72.3\n",
       "2    163.0\n",
       "3     85.0\n",
       "Name: PG, dtype: float64"
      ]
     },
     "execution_count": 44,
     "metadata": {},
     "output_type": "execute_result"
    }
   ],
   "source": [
    "cf.gen['PG']"
   ]
  },
  {
   "cell_type": "code",
   "execution_count": 45,
   "id": "2e6af95b",
   "metadata": {},
   "outputs": [
    {
     "data": {
      "text/plain": [
       "1    250.0\n",
       "2    300.0\n",
       "3    270.0\n",
       "Name: PMAX, dtype: float64"
      ]
     },
     "execution_count": 45,
     "metadata": {},
     "output_type": "execute_result"
    }
   ],
   "source": [
    "cf.gen['PMAX']"
   ]
  },
  {
   "cell_type": "code",
   "execution_count": 46,
   "id": "f2aa3598",
   "metadata": {},
   "outputs": [
    {
     "data": {
      "text/plain": [
       "1    10.0\n",
       "2    10.0\n",
       "3    10.0\n",
       "Name: PMIN, dtype: float64"
      ]
     },
     "execution_count": 46,
     "metadata": {},
     "output_type": "execute_result"
    }
   ],
   "source": [
    "cf.gen['PMIN']"
   ]
  },
  {
   "cell_type": "code",
   "execution_count": 47,
   "id": "52c09792",
   "metadata": {},
   "outputs": [
    {
     "data": {
      "text/plain": [
       "1    1.0\n",
       "2    1.0\n",
       "3    1.0\n",
       "Name: GEN_STATUS, dtype: float64"
      ]
     },
     "execution_count": 47,
     "metadata": {},
     "output_type": "execute_result"
    }
   ],
   "source": [
    "cf.gen['GEN_STATUS']"
   ]
  },
  {
   "cell_type": "code",
   "execution_count": 48,
   "id": "cd1817ba",
   "metadata": {},
   "outputs": [
    {
     "name": "stdout",
     "output_type": "stream",
     "text": [
      "oct2py version: 5.8.0\n",
      "matpower version: 8.0.0.2.2.2\n"
     ]
    }
   ],
   "source": [
    "import oct2py\n",
    "\n",
    "import matpower\n",
    "\n",
    "print(f\"oct2py version: {oct2py.__version__}\")\n",
    "print(f\"matpower version: {matpower.__version__}\")"
   ]
  },
  {
   "cell_type": "markdown",
   "id": "10190bb4",
   "metadata": {},
   "source": [
    "# Case 1: Experiment Change PMAX in Gen 1,2, and 3."
   ]
  },
  {
   "cell_type": "markdown",
   "id": "c935dc04",
   "metadata": {},
   "source": [
    "### 1.1 Change PMAX Gen 1"
   ]
  },
  {
   "cell_type": "code",
   "execution_count": 49,
   "id": "3f2498b8",
   "metadata": {},
   "outputs": [
    {
     "name": "stdout",
     "output_type": "stream",
     "text": [
      "\n",
      "MATPOWER Version 8.0, 17-May-2024\n",
      "Optimal Power Flow -- AC-polar-power formulation\n",
      "MATPOWER Interior Point Solver -- MIPS, Version 1.5.1, 10-May-2024\n",
      " (using built-in linear solver)\n",
      " it    objective   step size   feascond     gradcond     compcond     costcond\n",
      "----  ------------ --------- ------------ ------------ ------------ ------------\n",
      "  0      8363.125                   0.155       0.1765      57.1483            0\n",
      "  1     5307.5519    0.68632   0.00900309      8.30505      15.6381     0.166397\n",
      "  2     5391.0949    0.24288  0.000359195     0.630698      2.20652   0.00545763\n",
      "  3     5352.5722   0.088637   3.7341e-05     0.141404     0.216699   0.00250292\n",
      "  4     5315.4636    0.17189  0.000106315    0.0190754      0.02128    0.0024171\n",
      "  5     5312.3257   0.066353  0.000123278   0.00135236   0.00351135  0.000204886\n",
      "  6     5301.3809    0.19111   0.00120494   0.00174642  0.000962847  0.000714764\n",
      "  7     5296.7947    0.11693  0.000322236  7.55989e-05  0.000161495  0.000299729\n",
      "  8     5296.6848   0.042477  6.97202e-05  0.000191987  3.86228e-05  7.18437e-06\n",
      "  9     5296.6979   0.017789  3.27991e-06  0.000142097  1.15202e-05  8.58724e-07\n",
      " 10     5296.6885  0.0073711  5.75478e-07  1.89224e-07  1.39248e-06  6.13354e-07\n",
      " 11     5296.6865  0.0024437  6.22804e-08  2.14553e-08  1.57797e-07   1.3128e-07\n",
      "Converged!\n",
      "OPF successful\n",
      "\n",
      "Converged in 0.66 seconds\n",
      "Objective Function Value = 5296.69 $/hr\n",
      "================================================================================\n",
      "|     System Summary                                                           |\n",
      "================================================================================\n",
      "\n",
      "How many?                How much?              P (MW)            Q (MVAr)\n",
      "---------------------    -------------------  -------------  -----------------\n",
      "Buses              9     Total Gen Capacity     820.0        -900.0 to 900.0\n",
      "Generators         3     On-line Capacity       820.0        -900.0 to 900.0\n",
      "Committed Gens     3     Generation (actual)    318.3              -9.6\n",
      "Loads              3     Load                   315.0             115.0\n",
      "  Fixed            3       Fixed                315.0             115.0\n",
      "  Dispatchable     0       Dispatchable          -0.0 of -0.0      -0.0\n",
      "Shunts             0     Shunt (inj)             -0.0               0.0\n",
      "Branches           9     Losses (I^2 * Z)         3.31             36.46\n",
      "Transformers       0     Branch Charging (inj)     -              161.1\n",
      "Inter-ties         0     Total Inter-tie Flow     0.0               0.0\n",
      "Areas              1\n",
      "\n",
      "                          Minimum                      Maximum\n",
      "                 -------------------------  --------------------------------\n",
      "Voltage Magnitude   1.072 p.u. @ bus 9          1.100 p.u. @ bus 8\n",
      "Voltage Angle      -4.62 deg   @ bus 9          4.89 deg   @ bus 2\n",
      "P Losses (I^2*R)             -                  1.39 MW    @ line 8-9\n",
      "Q Losses (I^2*X)             -                  9.36 MVAr  @ line 8-2\n",
      "Lambda P           24.03 $/MWh @ bus 2         25.00 $/MWh @ bus 9\n",
      "Lambda Q           -0.00 $/MWh @ bus 3          0.11 $/MWh @ bus 9\n",
      "\n",
      "================================================================================\n",
      "|     Bus Data                                                                 |\n",
      "================================================================================\n",
      " Bus      Voltage          Generation             Load          Lambda($/MVA-hr)\n",
      "  #   Mag(pu) Ang(deg)   P (MW)   Q (MVAr)   P (MW)   Q (MVAr)     P        Q\n",
      "----- ------- --------  --------  --------  --------  --------  -------  -------\n",
      "    1  1.100    0.000*    89.80     12.94       -         -      24.756     -\n",
      "    2  1.097    4.893    134.32      0.05       -         -      24.035     -\n",
      "    3  1.087    3.249     94.19    -22.62       -         -      24.076     -\n",
      "    4  1.094   -2.463       -         -         -         -      24.756   0.004\n",
      "    5  1.084   -3.982       -         -       90.00     30.00    24.998   0.027\n",
      "    6  1.100    0.602       -         -         -         -      24.076     -\n",
      "    7  1.089   -1.197       -         -      100.00     35.00    24.254   0.036\n",
      "    8  1.100    0.905       -         -         -         -      24.035     -\n",
      "    9  1.072   -4.616       -         -      125.00     50.00    24.999   0.112\n",
      "                        --------  --------  --------  --------\n",
      "               Total:    318.31     -9.63    315.00    115.00\n",
      "\n",
      "================================================================================\n",
      "|     Branch Data                                                              |\n",
      "================================================================================\n",
      "Brnch   From   To    From Bus Injection   To Bus Injection     Loss (I^2 * Z)\n",
      "  #     Bus    Bus    P (MW)   Q (MVAr)   P (MW)   Q (MVAr)   P (MW)   Q (MVAr)\n",
      "-----  -----  -----  --------  --------  --------  --------  --------  --------\n",
      "   1      1      4     89.80     12.94    -89.80     -9.02     0.000      3.92\n",
      "   2      4      5     35.22     -3.90    -35.04    -13.87     0.181      0.98\n",
      "   3      5      6    -54.96    -16.13     55.97    -22.18     1.010      4.40\n",
      "   4      3      6     94.19    -22.62    -94.19     27.28     0.000      4.66\n",
      "   5      6      7     38.22     -5.10    -38.07    -18.68     0.149      1.26\n",
      "   6      7      8    -61.93    -16.32     62.21      0.82     0.279      2.36\n",
      "   7      8      2   -134.32      9.32    134.32      0.05    -0.000      9.36\n",
      "   8      8      9     72.11    -10.14    -70.72    -18.94     1.394      7.01\n",
      "   9      9      4    -54.28    -31.06     54.58     12.92     0.295      2.51\n",
      "                                                             --------  --------\n",
      "                                                    Total:     3.307     36.46\n",
      "\n",
      "================================================================================\n",
      "|     Voltage Constraints                                                      |\n",
      "================================================================================\n",
      "Bus #  Vmin mu    Vmin    |V|   Vmax    Vmax mu\n",
      "-----  --------   -----  -----  -----   --------\n",
      "    1      -      0.900  1.100  1.100     8.384\n",
      "    6      -      0.900  1.100  1.100    75.329\n",
      "    8      -      0.900  1.100  1.100    77.457\n"
     ]
    }
   ],
   "source": [
    "# Base Case Running Simulation\n",
    "\n",
    "from matpower import start_instance\n",
    "\n",
    "m = start_instance()\n",
    "\n",
    "m.eval(\n",
    "    \"\"\"\n",
    "    mpopt = mpoption('verbose', 2);\n",
    "    mpc = loadcase('case9');\n",
    "    _r1 = runopf(mpc, mpopt);\n",
    "    \"\"\"\n",
    ")\n",
    "\n",
    "# fech data to python (.eval is used because .pull is not working in acessing field)\n",
    "r1_mpc = m.eval(\n",
    "    \"struct(\"\n",
    "    \" 'baseMVA', _r1.baseMVA, 'version', _r1.version, 'bus', _r1.bus, 'gen', _r1.gen,\"\n",
    "    \" 'branch', _r1.branch, 'gencost', _r1.gencost);\"\n",
    ")"
   ]
  },
  {
   "cell_type": "markdown",
   "id": "45182e39",
   "metadata": {},
   "source": [
    "### Modify PMAX Gen 1"
   ]
  },
  {
   "cell_type": "code",
   "execution_count": 50,
   "id": "7b19e3b5",
   "metadata": {},
   "outputs": [
    {
     "data": {
      "text/plain": [
       "0"
      ]
     },
     "execution_count": 50,
     "metadata": {},
     "output_type": "execute_result"
    }
   ],
   "source": [
    "[GEN_BUS, PG, QG, QMAX, QMIN, VG, MBASE, GEN_STATUS, PMAX, PMIN, \n",
    " MU_PMAX, MU_PMIN, MU_QMAX, MU_QMIN, PC1, PC2, QC1MIN, QC1MAX, \n",
    " QC2MIN, QC2MAX, RAMP_AGC, RAMP_10, RAMP_30, RAMP_Q, APF] = m.idx_gen(nout='max_nout')\n",
    "\n",
    "gen_index = 1\n",
    "gen_index_ = int(gen_index - 1)\n",
    "gen_index_"
   ]
  },
  {
   "cell_type": "code",
   "execution_count": 51,
   "id": "46620511",
   "metadata": {},
   "outputs": [],
   "source": [
    "PMAX_ = int(PMAX -1) \n",
    "r1_mpc['gen'][gen_index_,PMAX_] = 80"
   ]
  },
  {
   "cell_type": "code",
   "execution_count": 52,
   "id": "c166930f",
   "metadata": {},
   "outputs": [
    {
     "name": "stdout",
     "output_type": "stream",
     "text": [
      "[ 80. 300. 270.]\n"
     ]
    }
   ],
   "source": [
    "#Check the PMAX of generators, generator 1 must be turn 80 change from 250\n",
    "print(r1_mpc['gen'][:, PMAX_])"
   ]
  },
  {
   "cell_type": "code",
   "execution_count": 53,
   "id": "93fbef0d",
   "metadata": {},
   "outputs": [],
   "source": [
    "\n",
    "def runopf(mpc, m=None, verbose=False, inplace=True):\n",
    "    if m is None:\n",
    "        m = start_instance()\n",
    "        SHUTDOWN = True\n",
    "    else:\n",
    "        SHUTDOWN = False\n",
    "\n",
    "    # push value to octave client\n",
    "    m.push('_mpc', r1_mpc)\n",
    "\n",
    "    m.eval(\"_mpopt = mpoption('verbose', 2);\", verbose=verbose)\n",
    "    m.eval(\"_r1 = runopf(_mpc, _mpopt);\", verbose=verbose)\n",
    "\n",
    "    # fech data to python (.eval is used because .pull is not working in acessing field)\n",
    "    if not inplace:\n",
    "        mpc = {}\n",
    "\n",
    "    _extract_result(mpc, m, verbose=verbose)\n",
    "\n",
    "    if SHUTDOWN:\n",
    "        m.exit()\n",
    "\n",
    "    return mpc\n",
    "\n",
    "def _extract_result(mpc, m, verbose=False):\n",
    "    mpc['baseMVA'] = m.eval('_r1.baseMVA;', verbose=verbose)\n",
    "    mpc['version'] = m.eval('_r1.version;', verbose=verbose)\n",
    "    mpc['bus'] = m.eval('_r1.bus;', verbose=verbose)\n",
    "    mpc['gen'] = m.eval('_r1.gen;', verbose=verbose)\n",
    "    mpc['branch'] = m.eval('_r1.branch;', verbose=verbose)\n",
    "    mpc['gencost'] = m.eval('_r1.gencost;', verbose=verbose)"
   ]
  },
  {
   "cell_type": "code",
   "execution_count": 54,
   "id": "a6272fe5",
   "metadata": {},
   "outputs": [
    {
     "name": "stdout",
     "output_type": "stream",
     "text": [
      "\n",
      "MATPOWER Version 8.0, 17-May-2024\n",
      "Optimal Power Flow -- AC-polar-power formulation\n",
      "MATPOWER Interior Point Solver -- MIPS, Version 1.5.1, 10-May-2024\n",
      " (using built-in linear solver)\n",
      " it    objective   step size   feascond     gradcond     compcond     costcond\n",
      "----  ------------ --------- ------------ ------------ ------------ ------------\n",
      "  0      6301.875                   0.155       0.1765      56.9914            0\n",
      "  1     5330.3993    0.71703    0.0197894      8.27184      15.9704    0.0595929\n",
      "  2     5381.7171    0.27876   0.00169491      1.16061      2.73219   0.00334746\n",
      "  3     5371.0361   0.062848  1.50564e-05    0.0779506     0.273864  0.000694392\n",
      "  4     5345.6271    0.11589  4.40316e-05    0.0184861     0.027073   0.00165305\n",
      "  5     5331.9611   0.074998  4.39397e-05  0.000524819   0.00350408  0.000890548\n",
      "  6     5317.4178    0.17942  0.000998394   0.00151594   0.00088331  0.000948561\n",
      "  7     5313.1759    0.09853  0.000276583  0.000448685  0.000143261  0.000276927\n",
      "  8     5312.9034   0.048406  5.70464e-05   0.00017334  3.80137e-05  1.77973e-05\n",
      "  9     5312.9007   0.019809  4.10689e-06  0.000212833  1.33715e-05  1.78665e-07\n",
      " 10     5312.8895   0.010232  1.11201e-06  4.71657e-07  1.82481e-06  7.27268e-07\n",
      " 11     5312.8871  0.0052744   2.9199e-07  1.21263e-07  2.70134e-07   1.5992e-07\n",
      "Converged!\n",
      "OPF successful\n",
      "\n",
      "Converged in 0.35 seconds\n",
      "Objective Function Value = 5312.89 $/hr\n",
      "================================================================================\n",
      "|     System Summary                                                           |\n",
      "================================================================================\n",
      "\n",
      "How many?                How much?              P (MW)            Q (MVAr)\n",
      "---------------------    -------------------  -------------  -----------------\n",
      "Buses              9     Total Gen Capacity     650.0        -900.0 to 900.0\n",
      "Generators         3     On-line Capacity       650.0        -900.0 to 900.0\n",
      "Committed Gens     3     Generation (actual)    318.6              -7.8\n",
      "Loads              3     Load                   315.0             115.0\n",
      "  Fixed            3       Fixed                315.0             115.0\n",
      "  Dispatchable     0       Dispatchable          -0.0 of -0.0      -0.0\n",
      "Shunts             0     Shunt (inj)             -0.0               0.0\n",
      "Branches           9     Losses (I^2 * Z)         3.61             38.18\n",
      "Transformers       0     Branch Charging (inj)     -              161.0\n",
      "Inter-ties         0     Total Inter-tie Flow     0.0               0.0\n",
      "Areas              1\n",
      "\n",
      "                          Minimum                      Maximum\n",
      "                 -------------------------  --------------------------------\n",
      "Voltage Magnitude   1.071 p.u. @ bus 9          1.100 p.u. @ bus 8\n",
      "Voltage Angle      -4.13 deg   @ bus 9          5.98 deg   @ bus 2\n",
      "P Losses (I^2*R)             -                  1.61 MW    @ line 8-9\n",
      "Q Losses (I^2*X)             -                 10.21 MVAr  @ line 8-2\n",
      "Lambda P           25.05 $/MWh @ bus 2         26.14 $/MWh @ bus 9\n",
      "Lambda Q           -0.00 $/MWh @ bus 3          0.12 $/MWh @ bus 9\n",
      "\n",
      "================================================================================\n",
      "|     Bus Data                                                                 |\n",
      "================================================================================\n",
      " Bus      Voltage          Generation             Load          Lambda($/MVA-hr)\n",
      "  #   Mag(pu) Ang(deg)   P (MW)   Q (MVAr)   P (MW)   Q (MVAr)     P        Q\n",
      "----- ------- --------  --------  --------  --------  --------  -------  -------\n",
      "    1  1.100    0.000*    80.00     13.46       -         -      25.909     -\n",
      "    2  1.098    5.980    140.28      1.04       -         -      25.048     -\n",
      "    3  1.087    4.229     98.33    -22.28       -         -      25.091     -\n",
      "    4  1.093   -2.197       -         -         -         -      25.909   0.002\n",
      "    5  1.084   -3.510       -         -       90.00     30.00    26.131   0.029\n",
      "    6  1.100    1.466       -         -         -         -      25.091     -\n",
      "    7  1.089   -0.306       -         -      100.00     35.00    25.277   0.037\n",
      "    8  1.100    1.816       -         -         -         -      25.048     -\n",
      "    9  1.071   -4.133       -         -      125.00     50.00    26.137   0.118\n",
      "                        --------  --------  --------  --------\n",
      "               Total:    318.61     -7.77    315.00    115.00\n",
      "\n",
      "================================================================================\n",
      "|     Branch Data                                                              |\n",
      "================================================================================\n",
      "Brnch   From   To    From Bus Injection   To Bus Injection     Loss (I^2 * Z)\n",
      "  #     Bus    Bus    P (MW)   Q (MVAr)   P (MW)   Q (MVAr)   P (MW)   Q (MVAr)\n",
      "-----  -----  -----  --------  --------  --------  --------  --------  --------\n",
      "   1      1      4     80.00     13.46    -80.00    -10.33     0.000      3.14\n",
      "   2      4      5     30.65     -3.19    -30.51    -14.77     0.139      0.75\n",
      "   3      5      6    -59.49    -15.23     60.67    -22.27     1.187      5.17\n",
      "   4      3      6     98.33    -22.28    -98.33     27.32     0.000      5.04\n",
      "   5      6      7     37.66     -5.05    -37.51    -18.77     0.145      1.23\n",
      "   6      7      8    -62.49    -16.23     62.77      0.78     0.284      2.40\n",
      "   7      8      2   -140.28      9.17    140.28      1.04     0.000     10.21\n",
      "   8      8      9     77.51     -9.94    -75.91    -18.02     1.608      8.09\n",
      "   9      9      4    -49.09    -31.98     49.35     13.52     0.252      2.14\n",
      "                                                             --------  --------\n",
      "                                                    Total:     3.615     38.18\n",
      "\n",
      "================================================================================\n",
      "|     Voltage Constraints                                                      |\n",
      "================================================================================\n",
      "Bus #  Vmin mu    Vmin    |V|   Vmax    Vmax mu\n",
      "-----  --------   -----  -----  -----   --------\n",
      "    1      -      0.900  1.100  1.100     3.990\n",
      "    6      -      0.900  1.100  1.100    88.118\n",
      "    8      -      0.900  1.100  1.100    91.146\n",
      "\n",
      "================================================================================\n",
      "|     Generation Constraints                                                   |\n",
      "================================================================================\n",
      " Gen   Bus                  Active Power Limits\n",
      "  #     #     Pmin mu     Pmin       Pg       Pmax    Pmax mu\n",
      "----  -----   -------   --------  --------  --------  -------\n",
      "   1     1       -        10.00     80.00     80.00     3.309\n"
     ]
    }
   ],
   "source": [
    "mpc = cf.to_dict()\n",
    "mpc = runopf(mpc, m=m, verbose=True, inplace=True) "
   ]
  },
  {
   "cell_type": "code",
   "execution_count": 55,
   "id": "0b1ca1eb",
   "metadata": {},
   "outputs": [
    {
     "data": {
      "text/plain": [
       "['version', 'baseMVA', 'bus', 'gen', 'branch', 'gencost']"
      ]
     },
     "execution_count": 55,
     "metadata": {},
     "output_type": "execute_result"
    }
   ],
   "source": [
    "# Results from mpc last simulation putback to caseframes\n",
    "cf = CaseFrames(mpc)\n",
    "cf.attributes"
   ]
  },
  {
   "cell_type": "code",
   "execution_count": 56,
   "id": "9244f6f2",
   "metadata": {},
   "outputs": [
    {
     "data": {
      "text/plain": [
       "1     79.999972\n",
       "2    140.282674\n",
       "3     98.332289\n",
       "Name: PG, dtype: float64"
      ]
     },
     "execution_count": 56,
     "metadata": {},
     "output_type": "execute_result"
    }
   ],
   "source": [
    "cf.gen['PG']"
   ]
  },
  {
   "cell_type": "code",
   "execution_count": 57,
   "id": "4b3e5d1d",
   "metadata": {},
   "outputs": [
    {
     "data": {
      "text/plain": [
       "1     80.0\n",
       "2    300.0\n",
       "3    270.0\n",
       "Name: PMAX, dtype: float64"
      ]
     },
     "execution_count": 57,
     "metadata": {},
     "output_type": "execute_result"
    }
   ],
   "source": [
    "cf.gen['PMAX']"
   ]
  },
  {
   "cell_type": "markdown",
   "id": "9b3a22eb",
   "metadata": {},
   "source": [
    "When we change PMAX in gen 1 the Power Generated from Generator not violate PMAX limit."
   ]
  },
  {
   "cell_type": "markdown",
   "id": "c3d2905c",
   "metadata": {},
   "source": [
    "### 1.2 Change PMAX Gen 2"
   ]
  },
  {
   "cell_type": "code",
   "execution_count": 58,
   "id": "4cd7f957",
   "metadata": {},
   "outputs": [],
   "source": [
    "# Revert back to original PMAX from base ieee case 9 \n",
    "PMAX_ = int(PMAX - 1) \n",
    "r1_mpc['gen'][gen_index_,PMAX_] = 250"
   ]
  },
  {
   "cell_type": "code",
   "execution_count": 59,
   "id": "b34cf1f3",
   "metadata": {},
   "outputs": [
    {
     "name": "stdout",
     "output_type": "stream",
     "text": [
      "[250. 300. 270.]\n"
     ]
    }
   ],
   "source": [
    "#Check the PMAX\n",
    "print(r1_mpc['gen'][:, PMAX_])"
   ]
  },
  {
   "cell_type": "markdown",
   "id": "d7ee825a",
   "metadata": {},
   "source": [
    "### Modify PMAX Gen 2"
   ]
  },
  {
   "cell_type": "code",
   "execution_count": 60,
   "id": "5d8b09fe",
   "metadata": {},
   "outputs": [
    {
     "data": {
      "text/plain": [
       "1"
      ]
     },
     "execution_count": 60,
     "metadata": {},
     "output_type": "execute_result"
    }
   ],
   "source": [
    "[GEN_BUS, PG, QG, QMAX, QMIN, VG, MBASE, GEN_STATUS, PMAX, PMIN, \n",
    " MU_PMAX, MU_PMIN, MU_QMAX, MU_QMIN, PC1, PC2, QC1MIN, QC1MAX, \n",
    " QC2MIN, QC2MAX, RAMP_AGC, RAMP_10, RAMP_30, RAMP_Q, APF] = m.idx_gen(nout='max_nout')\n",
    "\n",
    "gen_index = 2\n",
    "gen_index_ = int(gen_index - 1)\n",
    "gen_index_"
   ]
  },
  {
   "cell_type": "code",
   "execution_count": 61,
   "id": "840e9af6",
   "metadata": {},
   "outputs": [],
   "source": [
    "PMAX_ = int(PMAX - 1) \n",
    "r1_mpc['gen'][gen_index_,PMAX_] = 130"
   ]
  },
  {
   "cell_type": "code",
   "execution_count": 62,
   "id": "4cecac5c",
   "metadata": {},
   "outputs": [
    {
     "name": "stdout",
     "output_type": "stream",
     "text": [
      "[250. 130. 270.]\n"
     ]
    }
   ],
   "source": [
    "#Check the PMAX of generators, generator 2 must be turn 130 change from 300\n",
    "print(r1_mpc['gen'][:, PMAX_])"
   ]
  },
  {
   "cell_type": "code",
   "execution_count": 63,
   "id": "bb4e3732",
   "metadata": {},
   "outputs": [
    {
     "name": "stdout",
     "output_type": "stream",
     "text": [
      "\n",
      "MATPOWER Version 8.0, 17-May-2024\n",
      "Optimal Power Flow -- AC-polar-power formulation\n",
      "MATPOWER Interior Point Solver -- MIPS, Version 1.5.1, 10-May-2024\n",
      " (using built-in linear solver)\n",
      " it    objective   step size   feascond     gradcond     compcond     costcond\n",
      "----  ------------ --------- ------------ ------------ ------------ ------------\n",
      "  0        6635.5                    0.14       0.1765      60.3451            0\n",
      "  1     5400.6343     0.5349   0.00901433      8.16634       15.646    0.0742308\n",
      "  2     5496.9423    0.24143  0.000388301      0.66258      2.21589   0.00625351\n",
      "  3      5451.706   0.063535  2.87913e-05    0.0816629     0.227986   0.00291905\n",
      "  4     5352.6774    0.18548  0.000128936    0.0160398    0.0253563   0.00640891\n",
      "  5     5324.3727    0.10677  0.000194664   0.00160231    0.0041628   0.00184363\n",
      "  6     5306.8788    0.19536   0.00123159   0.00147643   0.00112797   0.00114157\n",
      "  7     5300.2308    0.11784  0.000322498  0.000110269  0.000209085  0.000434315\n",
      "  8     5299.5497   0.044436  4.52006e-05  2.18158e-05  5.12342e-05  4.45186e-05\n",
      "  9     5299.4016   0.015921  2.51725e-06  0.000131195  1.33961e-05  9.68015e-06\n",
      " 10     5299.3825  0.0064787  4.52016e-07  1.75674e-07  1.54146e-06  1.24856e-06\n",
      " 11     5299.3799  0.0018435  3.57176e-08  1.11188e-08  1.65134e-07  1.69298e-07\n",
      "Converged!\n",
      "OPF successful\n",
      "\n",
      "Converged in 0.35 seconds\n",
      "Objective Function Value = 5299.38 $/hr\n",
      "================================================================================\n",
      "|     System Summary                                                           |\n",
      "================================================================================\n",
      "\n",
      "How many?                How much?              P (MW)            Q (MVAr)\n",
      "---------------------    -------------------  -------------  -----------------\n",
      "Buses              9     Total Gen Capacity     650.0        -900.0 to 900.0\n",
      "Generators         3     On-line Capacity       650.0        -900.0 to 900.0\n",
      "Committed Gens     3     Generation (actual)    318.2             -10.1\n",
      "Loads              3     Load                   315.0             115.0\n",
      "  Fixed            3       Fixed                315.0             115.0\n",
      "  Dispatchable     0       Dispatchable          -0.0 of -0.0      -0.0\n",
      "Shunts             0     Shunt (inj)             -0.0               0.0\n",
      "Branches           9     Losses (I^2 * Z)         3.24             35.97\n",
      "Transformers       0     Branch Charging (inj)     -              161.1\n",
      "Inter-ties         0     Total Inter-tie Flow     0.0               0.0\n",
      "Areas              1\n",
      "\n",
      "                          Minimum                      Maximum\n",
      "                 -------------------------  --------------------------------\n",
      "Voltage Magnitude   1.072 p.u. @ bus 9          1.100 p.u. @ bus 6\n",
      "Voltage Angle      -4.76 deg   @ bus 9          4.47 deg   @ bus 2\n",
      "P Losses (I^2*R)             -                  1.32 MW    @ line 8-9\n",
      "Q Losses (I^2*X)             -                  8.77 MVAr  @ line 8-2\n",
      "Lambda P           24.55 $/MWh @ bus 2         25.51 $/MWh @ bus 9\n",
      "Lambda Q           -0.00 $/MWh @ bus 3          0.11 $/MWh @ bus 9\n",
      "\n",
      "================================================================================\n",
      "|     Bus Data                                                                 |\n",
      "================================================================================\n",
      " Bus      Voltage          Generation             Load          Lambda($/MVA-hr)\n",
      "  #   Mag(pu) Ang(deg)   P (MW)   Q (MVAr)   P (MW)   Q (MVAr)     P        Q\n",
      "----- ------- --------  --------  --------  --------  --------  -------  -------\n",
      "    1  1.100    0.000*    92.05     12.82       -         -      25.250     -\n",
      "    2  1.097    4.466    130.00     -0.32       -         -      24.547     -\n",
      "    3  1.087    3.202     96.19    -22.65       -         -      24.567     -\n",
      "    4  1.094   -2.524       -         -         -         -      25.250   0.005\n",
      "    5  1.085   -4.058       -         -       90.00     30.00    25.501   0.027\n",
      "    6  1.100    0.499       -         -         -         -      24.567     -\n",
      "    7  1.089   -1.414       -         -      100.00     35.00    24.762   0.036\n",
      "    8  1.100    0.606       -         -         -         -      24.547     -\n",
      "    9  1.072   -4.757       -         -      125.00     50.00    25.505   0.114\n",
      "                        --------  --------  --------  --------\n",
      "               Total:    318.24    -10.15    315.00    115.00\n",
      "\n",
      "================================================================================\n",
      "|     Branch Data                                                              |\n",
      "================================================================================\n",
      "Brnch   From   To    From Bus Injection   To Bus Injection     Loss (I^2 * Z)\n",
      "  #     Bus    Bus    P (MW)   Q (MVAr)   P (MW)   Q (MVAr)   P (MW)   Q (MVAr)\n",
      "-----  -----  -----  --------  --------  --------  --------  --------  --------\n",
      "   1      1      4     92.05     12.82    -92.05     -8.71     0.000      4.11\n",
      "   2      4      5     35.55     -3.93    -35.36    -13.83     0.184      0.99\n",
      "   3      5      6    -54.64    -16.17     55.63    -22.20     0.998      4.35\n",
      "   4      3      6     96.19    -22.65    -96.19     27.50     0.000      4.85\n",
      "   5      6      7     40.56     -5.30    -40.39    -18.33     0.167      1.42\n",
      "   6      7      8    -59.61    -16.67     59.87      1.01     0.259      2.19\n",
      "   7      8      2   -130.00      9.09    130.00     -0.32     0.000      8.77\n",
      "   8      8      9     70.13    -10.10    -68.81    -19.36     1.320      6.64\n",
      "   9      9      4    -56.19    -30.64     56.50     12.64     0.311      2.65\n",
      "                                                             --------  --------\n",
      "                                                    Total:     3.238     35.97\n",
      "\n",
      "================================================================================\n",
      "|     Voltage Constraints                                                      |\n",
      "================================================================================\n",
      "Bus #  Vmin mu    Vmin    |V|   Vmax    Vmax mu\n",
      "-----  --------   -----  -----  -----   --------\n",
      "    1      -      0.900  1.100  1.100     9.783\n",
      "    6      -      0.900  1.100  1.100    78.279\n",
      "    8      -      0.900  1.100  1.100    73.188\n",
      "\n",
      "================================================================================\n",
      "|     Generation Constraints                                                   |\n",
      "================================================================================\n",
      " Gen   Bus                  Active Power Limits\n",
      "  #     #     Pmin mu     Pmin       Pg       Pmax    Pmax mu\n",
      "----  -----   -------   --------  --------  --------  -------\n",
      "   2     2       -        10.00    130.00    130.00     1.247\n"
     ]
    }
   ],
   "source": [
    "mpc = cf.to_dict()\n",
    "mpc = runopf(mpc, m=m, verbose=True, inplace=True) "
   ]
  },
  {
   "cell_type": "code",
   "execution_count": 64,
   "id": "394c5990",
   "metadata": {},
   "outputs": [
    {
     "data": {
      "text/plain": [
       "['version', 'baseMVA', 'bus', 'gen', 'branch', 'gencost']"
      ]
     },
     "execution_count": 64,
     "metadata": {},
     "output_type": "execute_result"
    }
   ],
   "source": [
    "# Results from mpc last simulation putback to caseframes\n",
    "cf = CaseFrames(mpc)\n",
    "cf.attributes"
   ]
  },
  {
   "cell_type": "code",
   "execution_count": 65,
   "id": "4d83ce49",
   "metadata": {},
   "outputs": [
    {
     "data": {
      "text/plain": [
       "1     92.045052\n",
       "2    129.999941\n",
       "3     96.193285\n",
       "Name: PG, dtype: float64"
      ]
     },
     "execution_count": 65,
     "metadata": {},
     "output_type": "execute_result"
    }
   ],
   "source": [
    "cf.gen['PG']"
   ]
  },
  {
   "cell_type": "code",
   "execution_count": 66,
   "id": "26a8492c",
   "metadata": {},
   "outputs": [
    {
     "data": {
      "text/plain": [
       "1    250.0\n",
       "2    130.0\n",
       "3    270.0\n",
       "Name: PMAX, dtype: float64"
      ]
     },
     "execution_count": 66,
     "metadata": {},
     "output_type": "execute_result"
    }
   ],
   "source": [
    "cf.gen['PMAX']"
   ]
  },
  {
   "cell_type": "code",
   "execution_count": 67,
   "id": "0b1e8bfd",
   "metadata": {},
   "outputs": [
    {
     "data": {
      "text/plain": [
       "1    12.822636\n",
       "2    -0.318900\n",
       "3   -22.652973\n",
       "Name: QG, dtype: float64"
      ]
     },
     "execution_count": 67,
     "metadata": {},
     "output_type": "execute_result"
    }
   ],
   "source": [
    "cf.gen['QG']"
   ]
  },
  {
   "cell_type": "code",
   "execution_count": 68,
   "id": "5b9deba9",
   "metadata": {},
   "outputs": [
    {
     "data": {
      "text/plain": [
       "1    300.0\n",
       "2    300.0\n",
       "3    300.0\n",
       "Name: QMAX, dtype: float64"
      ]
     },
     "execution_count": 68,
     "metadata": {},
     "output_type": "execute_result"
    }
   ],
   "source": [
    "cf.gen['QMAX']"
   ]
  },
  {
   "cell_type": "markdown",
   "id": "8e4b56ec",
   "metadata": {},
   "source": [
    "When we change PMAX in gen 2 the Power Generated from Generator not violate PMAX limit."
   ]
  },
  {
   "cell_type": "markdown",
   "id": "c59a0aa8",
   "metadata": {},
   "source": [
    "### 1.3 Change PMAX Gen 3"
   ]
  },
  {
   "cell_type": "code",
   "execution_count": 69,
   "id": "59bb5267",
   "metadata": {},
   "outputs": [
    {
     "name": "stdout",
     "output_type": "stream",
     "text": [
      "[250. 300. 270.]\n"
     ]
    }
   ],
   "source": [
    "# Revert back to original PMAX from base ieee case 9 \n",
    "PMAX_ = int(PMAX - 1) \n",
    "r1_mpc['gen'][gen_index_,PMAX_] = 300\n",
    "print(r1_mpc['gen'][:, PMAX_])"
   ]
  },
  {
   "cell_type": "markdown",
   "id": "a9ecf5b9",
   "metadata": {},
   "source": [
    "### Modify PMAX Gen 3"
   ]
  },
  {
   "cell_type": "code",
   "execution_count": 70,
   "id": "c1703417",
   "metadata": {},
   "outputs": [
    {
     "data": {
      "text/plain": [
       "2"
      ]
     },
     "execution_count": 70,
     "metadata": {},
     "output_type": "execute_result"
    }
   ],
   "source": [
    "[GEN_BUS, PG, QG, QMAX, QMIN, VG, MBASE, GEN_STATUS, PMAX, PMIN, \n",
    " MU_PMAX, MU_PMIN, MU_QMAX, MU_QMIN, PC1, PC2, QC1MIN, QC1MAX, \n",
    " QC2MIN, QC2MAX, RAMP_AGC, RAMP_10, RAMP_30, RAMP_Q, APF] = m.idx_gen(nout='max_nout')\n",
    "\n",
    "gen_index = 3\n",
    "gen_index_ = int(gen_index - 1)\n",
    "gen_index_"
   ]
  },
  {
   "cell_type": "code",
   "execution_count": 71,
   "id": "56b49356",
   "metadata": {},
   "outputs": [
    {
     "name": "stdout",
     "output_type": "stream",
     "text": [
      "[250. 300.  90.]\n"
     ]
    }
   ],
   "source": [
    "#Check the PMAX of generators, generator 3 must be turn 90 change from 270\n",
    "PMAX_ = int(PMAX - 1) \n",
    "r1_mpc['gen'][gen_index_,PMAX_] = 90\n",
    "print(r1_mpc['gen'][:, PMAX_])"
   ]
  },
  {
   "cell_type": "code",
   "execution_count": 72,
   "id": "7d2f464b",
   "metadata": {},
   "outputs": [
    {
     "name": "stdout",
     "output_type": "stream",
     "text": [
      "\n",
      "MATPOWER Version 8.0, 17-May-2024\n",
      "Optimal Power Flow -- AC-polar-power formulation\n",
      "MATPOWER Interior Point Solver -- MIPS, Version 1.5.1, 10-May-2024\n",
      " (using built-in linear solver)\n",
      " it    objective   step size   feascond     gradcond     compcond     costcond\n",
      "----  ------------ --------- ------------ ------------ ------------ ------------\n",
      "  0      6178.375                   0.155        0.168       56.913            0\n",
      "  1     5305.3133    0.63805   0.00882854      7.82508      14.8633    0.0539647\n",
      "  2     5400.7028    0.25096  0.000358474     0.675274      2.07273   0.00623244\n",
      "  3     5371.9873   0.091967  3.45408e-05     0.160527     0.203864   0.00186455\n",
      "  4     5328.8144    0.17504   0.00011159     0.017654    0.0204149   0.00280855\n",
      "  5     5318.7006   0.074081   0.00017623  0.000950314   0.00348923  0.000659788\n",
      "  6     5305.2073    0.19261   0.00120933   0.00180076  0.000959908  0.000880842\n",
      "  7     5299.9666    0.11482  0.000298946   6.5489e-05  0.000156733  0.000342411\n",
      "  8     5299.7797   0.038005  8.98852e-05  0.000377074  3.66245e-05  1.22186e-05\n",
      "  9     5299.7275   0.019309  3.88302e-06  0.000139724  1.02741e-05  3.40888e-06\n",
      " 10     5299.7196  0.0068034   4.8452e-07  1.53535e-07  1.22928e-06  5.19515e-07\n",
      " 11     5299.7174  0.0018142   3.4077e-08  1.08279e-08  1.33221e-07  1.42548e-07\n",
      "Converged!\n",
      "OPF successful\n",
      "\n",
      "Converged in 0.36 seconds\n",
      "Objective Function Value = 5299.72 $/hr\n",
      "================================================================================\n",
      "|     System Summary                                                           |\n",
      "================================================================================\n",
      "\n",
      "How many?                How much?              P (MW)            Q (MVAr)\n",
      "---------------------    -------------------  -------------  -----------------\n",
      "Buses              9     Total Gen Capacity     640.0        -900.0 to 900.0\n",
      "Generators         3     On-line Capacity       640.0        -900.0 to 900.0\n",
      "Committed Gens     3     Generation (actual)    318.3              -9.7\n",
      "Loads              3     Load                   315.0             115.0\n",
      "  Fixed            3       Fixed                315.0             115.0\n",
      "  Dispatchable     0       Dispatchable          -0.0 of -0.0      -0.0\n",
      "Shunts             0     Shunt (inj)             -0.0               0.0\n",
      "Branches           9     Losses (I^2 * Z)         3.26             36.40\n",
      "Transformers       0     Branch Charging (inj)     -              161.1\n",
      "Inter-ties         0     Total Inter-tie Flow     0.0               0.0\n",
      "Areas              1\n",
      "\n",
      "                          Minimum                      Maximum\n",
      "                 -------------------------  --------------------------------\n",
      "Voltage Magnitude   1.072 p.u. @ bus 9          1.100 p.u. @ bus 8\n",
      "Voltage Angle      -4.67 deg   @ bus 9          4.90 deg   @ bus 2\n",
      "P Losses (I^2*R)             -                  1.39 MW    @ line 8-9\n",
      "Q Losses (I^2*X)             -                  9.69 MVAr  @ line 8-2\n",
      "Lambda P           24.43 $/MWh @ bus 2         25.41 $/MWh @ bus 5\n",
      "Lambda Q           -0.00 $/MWh @ bus 3          0.11 $/MWh @ bus 9\n",
      "\n",
      "================================================================================\n",
      "|     Bus Data                                                                 |\n",
      "================================================================================\n",
      " Bus      Voltage          Generation             Load          Lambda($/MVA-hr)\n",
      "  #   Mag(pu) Ang(deg)   P (MW)   Q (MVAr)   P (MW)   Q (MVAr)     P        Q\n",
      "----- ------- --------  --------  --------  --------  --------  -------  -------\n",
      "    1  1.100    0.000*    91.61     12.80       -         -      25.155     -\n",
      "    2  1.097    4.898    136.65      0.13       -         -      24.430     -\n",
      "    3  1.087    2.860     90.00    -22.65       -         -      24.498     -\n",
      "    4  1.094   -2.513       -         -         -         -      25.155   0.005\n",
      "    5  1.085   -4.109       -         -       90.00     30.00    25.411   0.027\n",
      "    6  1.100    0.332       -         -         -         -      24.498     -\n",
      "    7  1.089   -1.347       -         -      100.00     35.00    24.664   0.036\n",
      "    8  1.100    0.840       -         -         -         -      24.430     -\n",
      "    9  1.072   -4.670       -         -      125.00     50.00    25.404   0.114\n",
      "                        --------  --------  --------  --------\n",
      "               Total:    318.26     -9.71    315.00    115.00\n",
      "\n",
      "================================================================================\n",
      "|     Branch Data                                                              |\n",
      "================================================================================\n",
      "Brnch   From   To    From Bus Injection   To Bus Injection     Loss (I^2 * Z)\n",
      "  #     Bus    Bus    P (MW)   Q (MVAr)   P (MW)   Q (MVAr)   P (MW)   Q (MVAr)\n",
      "-----  -----  -----  --------  --------  --------  --------  --------  --------\n",
      "   1      1      4     91.61     12.80    -91.61     -8.73     0.000      4.07\n",
      "   2      4      5     36.90     -4.23    -36.70    -13.46     0.197      1.07\n",
      "   3      5      6    -53.30    -16.54     54.25    -22.04     0.948      4.13\n",
      "   4      3      6     90.00    -22.65    -90.00     26.92    -0.000      4.27\n",
      "   5      6      7     35.75     -4.88    -35.62    -19.06     0.132      1.12\n",
      "   6      7      8    -64.38    -15.94     64.68      0.63     0.300      2.54\n",
      "   7      8      2   -136.65      9.56    136.65      0.13     0.000      9.69\n",
      "   8      8      9     71.97    -10.19    -70.58    -18.91     1.388      6.98\n",
      "   9      9      4    -54.42    -31.09     54.71     12.96     0.296      2.52\n",
      "                                                             --------  --------\n",
      "                                                    Total:     3.262     36.40\n",
      "\n",
      "================================================================================\n",
      "|     Voltage Constraints                                                      |\n",
      "================================================================================\n",
      "Bus #  Vmin mu    Vmin    |V|   Vmax    Vmax mu\n",
      "-----  --------   -----  -----  -----   --------\n",
      "    1      -      0.900  1.100  1.100    10.066\n",
      "    6      -      0.900  1.100  1.100    70.706\n",
      "    8      -      0.900  1.100  1.100    81.033\n",
      "\n",
      "================================================================================\n",
      "|     Generation Constraints                                                   |\n",
      "================================================================================\n",
      " Gen   Bus                  Active Power Limits\n",
      "  #     #     Pmin mu     Pmin       Pg       Pmax    Pmax mu\n",
      "----  -----   -------   --------  --------  --------  -------\n",
      "   3     3       -        10.00     90.00     90.00     1.448\n"
     ]
    }
   ],
   "source": [
    "mpc = cf.to_dict()\n",
    "mpc = runopf(mpc, m=m, verbose=True, inplace=True) "
   ]
  },
  {
   "cell_type": "code",
   "execution_count": 73,
   "id": "f972bd2d",
   "metadata": {},
   "outputs": [
    {
     "data": {
      "text/plain": [
       "['version', 'baseMVA', 'bus', 'gen', 'branch', 'gencost']"
      ]
     },
     "execution_count": 73,
     "metadata": {},
     "output_type": "execute_result"
    }
   ],
   "source": [
    "# Results from mpc last simulation putback to caseframes\n",
    "cf = CaseFrames(mpc)\n",
    "cf.attributes"
   ]
  },
  {
   "cell_type": "code",
   "execution_count": 74,
   "id": "1a443b6d",
   "metadata": {},
   "outputs": [
    {
     "data": {
      "text/plain": [
       "1     91.612175\n",
       "2    136.649860\n",
       "3     89.999958\n",
       "Name: PG, dtype: float64"
      ]
     },
     "execution_count": 74,
     "metadata": {},
     "output_type": "execute_result"
    }
   ],
   "source": [
    "cf.gen['PG']"
   ]
  },
  {
   "cell_type": "code",
   "execution_count": 75,
   "id": "bedd1e5b",
   "metadata": {},
   "outputs": [
    {
     "data": {
      "text/plain": [
       "1    250.0\n",
       "2    300.0\n",
       "3     90.0\n",
       "Name: PMAX, dtype: float64"
      ]
     },
     "execution_count": 75,
     "metadata": {},
     "output_type": "execute_result"
    }
   ],
   "source": [
    "cf.gen['PMAX']"
   ]
  },
  {
   "cell_type": "markdown",
   "id": "b76d17c4",
   "metadata": {},
   "source": [
    "# Case 2: Loop Change PMAX With Requirement \"Results From OPF Must Not Violate PMAX\""
   ]
  },
  {
   "cell_type": "code",
   "execution_count": 76,
   "id": "a29a2990",
   "metadata": {},
   "outputs": [
    {
     "data": {
      "text/html": [
       "<div>\n",
       "<style scoped>\n",
       "    .dataframe tbody tr th:only-of-type {\n",
       "        vertical-align: middle;\n",
       "    }\n",
       "\n",
       "    .dataframe tbody tr th {\n",
       "        vertical-align: top;\n",
       "    }\n",
       "\n",
       "    .dataframe thead th {\n",
       "        text-align: right;\n",
       "    }\n",
       "</style>\n",
       "<table border=\"1\" class=\"dataframe\">\n",
       "  <thead>\n",
       "    <tr style=\"text-align: right;\">\n",
       "      <th></th>\n",
       "      <th>BUS_I</th>\n",
       "      <th>BUS_TYPE</th>\n",
       "      <th>PD</th>\n",
       "      <th>QD</th>\n",
       "      <th>GS</th>\n",
       "      <th>BS</th>\n",
       "      <th>BUS_AREA</th>\n",
       "      <th>VM</th>\n",
       "      <th>VA</th>\n",
       "      <th>BASE_KV</th>\n",
       "      <th>ZONE</th>\n",
       "      <th>VMAX</th>\n",
       "      <th>VMIN</th>\n",
       "      <th>LAM_P</th>\n",
       "      <th>LAM_Q</th>\n",
       "      <th>MU_VMAX</th>\n",
       "      <th>MU_VMIN</th>\n",
       "    </tr>\n",
       "  </thead>\n",
       "  <tbody>\n",
       "    <tr>\n",
       "      <th>1</th>\n",
       "      <td>1.0</td>\n",
       "      <td>3.0</td>\n",
       "      <td>0.0</td>\n",
       "      <td>0.0</td>\n",
       "      <td>0.0</td>\n",
       "      <td>0.0</td>\n",
       "      <td>1.0</td>\n",
       "      <td>1.099976</td>\n",
       "      <td>0.000000</td>\n",
       "      <td>345.0</td>\n",
       "      <td>1.0</td>\n",
       "      <td>1.1</td>\n",
       "      <td>0.9</td>\n",
       "      <td>25.154678</td>\n",
       "      <td>1.865524e-08</td>\n",
       "      <td>10.066032</td>\n",
       "      <td>0.0</td>\n",
       "    </tr>\n",
       "    <tr>\n",
       "      <th>2</th>\n",
       "      <td>2.0</td>\n",
       "      <td>2.0</td>\n",
       "      <td>0.0</td>\n",
       "      <td>0.0</td>\n",
       "      <td>0.0</td>\n",
       "      <td>0.0</td>\n",
       "      <td>1.0</td>\n",
       "      <td>1.097317</td>\n",
       "      <td>4.897677</td>\n",
       "      <td>345.0</td>\n",
       "      <td>1.0</td>\n",
       "      <td>1.1</td>\n",
       "      <td>0.9</td>\n",
       "      <td>24.430476</td>\n",
       "      <td>-6.382718e-10</td>\n",
       "      <td>0.000000</td>\n",
       "      <td>0.0</td>\n",
       "    </tr>\n",
       "    <tr>\n",
       "      <th>3</th>\n",
       "      <td>3.0</td>\n",
       "      <td>2.0</td>\n",
       "      <td>0.0</td>\n",
       "      <td>0.0</td>\n",
       "      <td>0.0</td>\n",
       "      <td>0.0</td>\n",
       "      <td>1.0</td>\n",
       "      <td>1.086717</td>\n",
       "      <td>2.860363</td>\n",
       "      <td>345.0</td>\n",
       "      <td>1.0</td>\n",
       "      <td>1.1</td>\n",
       "      <td>0.9</td>\n",
       "      <td>24.497878</td>\n",
       "      <td>-3.142275e-08</td>\n",
       "      <td>0.000000</td>\n",
       "      <td>0.0</td>\n",
       "    </tr>\n",
       "    <tr>\n",
       "      <th>4</th>\n",
       "      <td>4.0</td>\n",
       "      <td>1.0</td>\n",
       "      <td>0.0</td>\n",
       "      <td>0.0</td>\n",
       "      <td>0.0</td>\n",
       "      <td>0.0</td>\n",
       "      <td>1.0</td>\n",
       "      <td>1.094325</td>\n",
       "      <td>-2.512511</td>\n",
       "      <td>345.0</td>\n",
       "      <td>1.0</td>\n",
       "      <td>1.1</td>\n",
       "      <td>0.9</td>\n",
       "      <td>25.154911</td>\n",
       "      <td>5.293036e-03</td>\n",
       "      <td>0.000000</td>\n",
       "      <td>0.0</td>\n",
       "    </tr>\n",
       "    <tr>\n",
       "      <th>5</th>\n",
       "      <td>5.0</td>\n",
       "      <td>1.0</td>\n",
       "      <td>90.0</td>\n",
       "      <td>30.0</td>\n",
       "      <td>0.0</td>\n",
       "      <td>0.0</td>\n",
       "      <td>1.0</td>\n",
       "      <td>1.084613</td>\n",
       "      <td>-4.108541</td>\n",
       "      <td>345.0</td>\n",
       "      <td>1.0</td>\n",
       "      <td>1.1</td>\n",
       "      <td>0.9</td>\n",
       "      <td>25.411456</td>\n",
       "      <td>2.677463e-02</td>\n",
       "      <td>0.000000</td>\n",
       "      <td>0.0</td>\n",
       "    </tr>\n",
       "    <tr>\n",
       "      <th>6</th>\n",
       "      <td>6.0</td>\n",
       "      <td>1.0</td>\n",
       "      <td>0.0</td>\n",
       "      <td>0.0</td>\n",
       "      <td>0.0</td>\n",
       "      <td>0.0</td>\n",
       "      <td>1.0</td>\n",
       "      <td>1.099999</td>\n",
       "      <td>0.331678</td>\n",
       "      <td>345.0</td>\n",
       "      <td>1.0</td>\n",
       "      <td>1.1</td>\n",
       "      <td>0.9</td>\n",
       "      <td>24.497878</td>\n",
       "      <td>2.102417e-06</td>\n",
       "      <td>70.705653</td>\n",
       "      <td>0.0</td>\n",
       "    </tr>\n",
       "    <tr>\n",
       "      <th>7</th>\n",
       "      <td>7.0</td>\n",
       "      <td>1.0</td>\n",
       "      <td>100.0</td>\n",
       "      <td>35.0</td>\n",
       "      <td>0.0</td>\n",
       "      <td>0.0</td>\n",
       "      <td>1.0</td>\n",
       "      <td>1.089482</td>\n",
       "      <td>-1.347442</td>\n",
       "      <td>345.0</td>\n",
       "      <td>1.0</td>\n",
       "      <td>1.1</td>\n",
       "      <td>0.9</td>\n",
       "      <td>24.664133</td>\n",
       "      <td>3.621717e-02</td>\n",
       "      <td>0.000000</td>\n",
       "      <td>0.0</td>\n",
       "    </tr>\n",
       "    <tr>\n",
       "      <th>8</th>\n",
       "      <td>8.0</td>\n",
       "      <td>1.0</td>\n",
       "      <td>0.0</td>\n",
       "      <td>0.0</td>\n",
       "      <td>0.0</td>\n",
       "      <td>0.0</td>\n",
       "      <td>1.0</td>\n",
       "      <td>1.099999</td>\n",
       "      <td>0.840254</td>\n",
       "      <td>345.0</td>\n",
       "      <td>1.0</td>\n",
       "      <td>1.1</td>\n",
       "      <td>0.9</td>\n",
       "      <td>24.430478</td>\n",
       "      <td>1.093410e-05</td>\n",
       "      <td>81.033480</td>\n",
       "      <td>0.0</td>\n",
       "    </tr>\n",
       "    <tr>\n",
       "      <th>9</th>\n",
       "      <td>9.0</td>\n",
       "      <td>1.0</td>\n",
       "      <td>125.0</td>\n",
       "      <td>50.0</td>\n",
       "      <td>0.0</td>\n",
       "      <td>0.0</td>\n",
       "      <td>1.0</td>\n",
       "      <td>1.071837</td>\n",
       "      <td>-4.669947</td>\n",
       "      <td>345.0</td>\n",
       "      <td>1.0</td>\n",
       "      <td>1.1</td>\n",
       "      <td>0.9</td>\n",
       "      <td>25.404186</td>\n",
       "      <td>1.137927e-01</td>\n",
       "      <td>0.000000</td>\n",
       "      <td>0.0</td>\n",
       "    </tr>\n",
       "  </tbody>\n",
       "</table>\n",
       "</div>"
      ],
      "text/plain": [
       "   BUS_I  BUS_TYPE     PD    QD   GS   BS  BUS_AREA        VM        VA  \\\n",
       "1    1.0       3.0    0.0   0.0  0.0  0.0       1.0  1.099976  0.000000   \n",
       "2    2.0       2.0    0.0   0.0  0.0  0.0       1.0  1.097317  4.897677   \n",
       "3    3.0       2.0    0.0   0.0  0.0  0.0       1.0  1.086717  2.860363   \n",
       "4    4.0       1.0    0.0   0.0  0.0  0.0       1.0  1.094325 -2.512511   \n",
       "5    5.0       1.0   90.0  30.0  0.0  0.0       1.0  1.084613 -4.108541   \n",
       "6    6.0       1.0    0.0   0.0  0.0  0.0       1.0  1.099999  0.331678   \n",
       "7    7.0       1.0  100.0  35.0  0.0  0.0       1.0  1.089482 -1.347442   \n",
       "8    8.0       1.0    0.0   0.0  0.0  0.0       1.0  1.099999  0.840254   \n",
       "9    9.0       1.0  125.0  50.0  0.0  0.0       1.0  1.071837 -4.669947   \n",
       "\n",
       "   BASE_KV  ZONE  VMAX  VMIN      LAM_P         LAM_Q    MU_VMAX  MU_VMIN  \n",
       "1    345.0   1.0   1.1   0.9  25.154678  1.865524e-08  10.066032      0.0  \n",
       "2    345.0   1.0   1.1   0.9  24.430476 -6.382718e-10   0.000000      0.0  \n",
       "3    345.0   1.0   1.1   0.9  24.497878 -3.142275e-08   0.000000      0.0  \n",
       "4    345.0   1.0   1.1   0.9  25.154911  5.293036e-03   0.000000      0.0  \n",
       "5    345.0   1.0   1.1   0.9  25.411456  2.677463e-02   0.000000      0.0  \n",
       "6    345.0   1.0   1.1   0.9  24.497878  2.102417e-06  70.705653      0.0  \n",
       "7    345.0   1.0   1.1   0.9  24.664133  3.621717e-02   0.000000      0.0  \n",
       "8    345.0   1.0   1.1   0.9  24.430478  1.093410e-05  81.033480      0.0  \n",
       "9    345.0   1.0   1.1   0.9  25.404186  1.137927e-01   0.000000      0.0  "
      ]
     },
     "execution_count": 76,
     "metadata": {},
     "output_type": "execute_result"
    }
   ],
   "source": [
    "#  BUS_TYPE    bus type (1 = PQ, 2 = PV, 3 = ref, 4 = isolated)\n",
    "cf.bus"
   ]
  },
  {
   "cell_type": "code",
   "execution_count": 77,
   "id": "2d2f896d",
   "metadata": {},
   "outputs": [
    {
     "data": {
      "text/html": [
       "<div>\n",
       "<style scoped>\n",
       "    .dataframe tbody tr th:only-of-type {\n",
       "        vertical-align: middle;\n",
       "    }\n",
       "\n",
       "    .dataframe tbody tr th {\n",
       "        vertical-align: top;\n",
       "    }\n",
       "\n",
       "    .dataframe thead th {\n",
       "        text-align: right;\n",
       "    }\n",
       "</style>\n",
       "<table border=\"1\" class=\"dataframe\">\n",
       "  <thead>\n",
       "    <tr style=\"text-align: right;\">\n",
       "      <th></th>\n",
       "      <th>MODEL</th>\n",
       "      <th>STARTUP</th>\n",
       "      <th>SHUTDOWN</th>\n",
       "      <th>NCOST</th>\n",
       "      <th>COST_2</th>\n",
       "      <th>COST_1</th>\n",
       "      <th>COST_0</th>\n",
       "    </tr>\n",
       "  </thead>\n",
       "  <tbody>\n",
       "    <tr>\n",
       "      <th>1</th>\n",
       "      <td>2.0</td>\n",
       "      <td>1500.0</td>\n",
       "      <td>0.0</td>\n",
       "      <td>3.0</td>\n",
       "      <td>0.1100</td>\n",
       "      <td>5.0</td>\n",
       "      <td>150.0</td>\n",
       "    </tr>\n",
       "    <tr>\n",
       "      <th>2</th>\n",
       "      <td>2.0</td>\n",
       "      <td>2000.0</td>\n",
       "      <td>0.0</td>\n",
       "      <td>3.0</td>\n",
       "      <td>0.0850</td>\n",
       "      <td>1.2</td>\n",
       "      <td>600.0</td>\n",
       "    </tr>\n",
       "    <tr>\n",
       "      <th>3</th>\n",
       "      <td>2.0</td>\n",
       "      <td>3000.0</td>\n",
       "      <td>0.0</td>\n",
       "      <td>3.0</td>\n",
       "      <td>0.1225</td>\n",
       "      <td>1.0</td>\n",
       "      <td>335.0</td>\n",
       "    </tr>\n",
       "  </tbody>\n",
       "</table>\n",
       "</div>"
      ],
      "text/plain": [
       "   MODEL  STARTUP  SHUTDOWN  NCOST  COST_2  COST_1  COST_0\n",
       "1    2.0   1500.0       0.0    3.0  0.1100     5.0   150.0\n",
       "2    2.0   2000.0       0.0    3.0  0.0850     1.2   600.0\n",
       "3    2.0   3000.0       0.0    3.0  0.1225     1.0   335.0"
      ]
     },
     "execution_count": 77,
     "metadata": {},
     "output_type": "execute_result"
    }
   ],
   "source": [
    "cf.gencost"
   ]
  },
  {
   "cell_type": "markdown",
   "id": "da34fc76",
   "metadata": {},
   "source": [
    "## Plot Curve Incremental Cost From *cf.gencost*"
   ]
  },
  {
   "cell_type": "code",
   "execution_count": 98,
   "id": "4cd266d1",
   "metadata": {},
   "outputs": [
    {
     "data": {
      "image/png": "[encoded data removed]",
      "text/plain": [
       "<Figure size 800x600 with 1 Axes>"
      ]
     },
     "metadata": {},
     "output_type": "display_data"
    }
   ],
   "source": [
    "import numpy as np\n",
    "import matplotlib.pyplot as plt\n",
    "\n",
    "# Data gencost (c2, c1, c0) for every generator\n",
    "gencost = [\n",
    "    (0.1100, 5.0, 150.0),   # Gen 1\n",
    "    (0.0850, 1.2, 600.0),   # Gen 2\n",
    "    (0.1225, 1.0, 335.0)    # Gen 3\n",
    "]\n",
    "\n",
    "#  range of P (MW)\n",
    "P = np.linspace(0, 500, 500)\n",
    "\n",
    "# Points per 50 MW\n",
    "P_points = np.arange(0, 501, 50)\n",
    "\n",
    "plt.figure(figsize=(8,6))\n",
    "\n",
    "# Plot incremental cost for every of generator\n",
    "for i, (c2, c1, c0) in enumerate(gencost, start=1):\n",
    "    IC = 2*c2*P + c1   # Incremental cost function\n",
    "    IC_points = 2*c2*P_points + c1\n",
    "    plt.plot(P, IC, label=f'Gen {i}')\n",
    "    plt.scatter(P_points, IC_points, marker='o', s=60)\n",
    "\n",
    "plt.xlabel('P (MW)')\n",
    "plt.ylabel('Incremental Cost ($/MWh)')\n",
    "plt.title('Incremental Cost Curve')\n",
    "plt.legend()\n",
    "plt.grid(True)\n",
    "plt.show()"
   ]
  },
  {
   "cell_type": "code",
   "execution_count": 100,
   "id": "4e9fda00",
   "metadata": {},
   "outputs": [
    {
     "data": {
      "text/plain": [
       "array([  0,  50, 100, 150, 200, 250, 300, 350, 400, 450, 500])"
      ]
     },
     "execution_count": 100,
     "metadata": {},
     "output_type": "execute_result"
    }
   ],
   "source": [
    "P_points"
   ]
  },
  {
   "cell_type": "code",
   "execution_count": 78,
   "id": "a1f0381e",
   "metadata": {},
   "outputs": [
    {
     "name": "stdout",
     "output_type": "stream",
     "text": [
      "[250. 300. 270.]\n"
     ]
    }
   ],
   "source": [
    "# Revert back to original PMAX from base ieee case 9 \n",
    "PMAX_ = int(PMAX - 1) \n",
    "r1_mpc['gen'][gen_index_,PMAX_] = 270\n",
    "print(r1_mpc['gen'][:, PMAX_])"
   ]
  },
  {
   "cell_type": "markdown",
   "id": "c901e897",
   "metadata": {},
   "source": [
    "based on curve, gen 2 is the most cheapest better than gen 1 and 3, gen 3 is the most expensive and gen 1 is cheaper number 2. "
   ]
  },
  {
   "cell_type": "markdown",
   "id": "1bb05df5",
   "metadata": {},
   "source": [
    "## Loop PMAX, Define First What PMAX Used"
   ]
  },
  {
   "cell_type": "code",
   "execution_count": 125,
   "id": "c0e698c1",
   "metadata": {},
   "outputs": [
    {
     "name": "stdout",
     "output_type": "stream",
     "text": [
      "PMAX after update:\n",
      "[100. 135.  95.]\n",
      "\n",
      "MATPOWER Version 8.0, 17-May-2024\n",
      "Optimal Power Flow -- AC-polar-power formulation\n",
      "MATPOWER Interior Point Solver -- MIPS, Version 1.5.1, 10-May-2024\n",
      " (using built-in linear solver)\n",
      " it    objective   step size   feascond     gradcond     compcond     costcond\n",
      "----  ------------ --------- ------------ ------------ ------------ ------------\n",
      "  0     2616.6719                   0.125    0.0859225      71.9141            0\n",
      "  1     5122.5943    0.81536     0.014827       6.9183      15.6424      0.19862\n",
      "  2     5319.7486    0.34074   0.00142444      1.28738       3.4547    0.0130371\n",
      "  3     5321.1752   0.018088  3.47845e-06    0.0258849     0.352711  9.31226e-05\n",
      "  4     5320.5271     0.0182  3.86139e-06   0.00230747    0.0351949  4.23048e-05\n",
      "  5     5316.6764   0.046519  5.48138e-05  0.000634057    0.0084716  0.000251339\n",
      "  6     5307.9196   0.099513  0.000385072  0.000828491    0.0020215   0.00057172\n",
      "  7     5298.3462    0.17271  0.000881529  0.000350365  0.000387389  0.000625385\n",
      "  8     5296.8265   0.058019  0.000283614  0.000501389  8.37969e-05  9.93401e-05\n",
      "  9     5296.6844   0.037558   7.7545e-05  0.000334582  2.20166e-05  9.28661e-06\n",
      " 10     5296.6908   0.017499  3.18222e-06  8.64636e-05  6.09832e-06  4.19285e-07\n",
      " 11     5296.6878  0.0063671  4.24731e-07  2.51289e-07  7.94945e-07   1.9752e-07\n",
      "Converged!\n",
      "OPF successful\n",
      "\n",
      "Converged in 0.47 seconds\n",
      "Objective Function Value = 5296.69 $/hr\n",
      "================================================================================\n",
      "|     System Summary                                                           |\n",
      "================================================================================\n",
      "\n",
      "How many?                How much?              P (MW)            Q (MVAr)\n",
      "---------------------    -------------------  -------------  -----------------\n",
      "Buses              9     Total Gen Capacity     330.0        -900.0 to 900.0\n",
      "Generators         3     On-line Capacity       330.0        -900.0 to 900.0\n",
      "Committed Gens     3     Generation (actual)    318.3              -9.6\n",
      "Loads              3     Load                   315.0             115.0\n",
      "  Fixed            3       Fixed                315.0             115.0\n",
      "  Dispatchable     0       Dispatchable          -0.0 of -0.0      -0.0\n",
      "Shunts             0     Shunt (inj)             -0.0               0.0\n",
      "Branches           9     Losses (I^2 * Z)         3.31             36.46\n",
      "Transformers       0     Branch Charging (inj)     -              161.1\n",
      "Inter-ties         0     Total Inter-tie Flow     0.0               0.0\n",
      "Areas              1\n",
      "\n",
      "                          Minimum                      Maximum\n",
      "                 -------------------------  --------------------------------\n",
      "Voltage Magnitude   1.072 p.u. @ bus 9          1.100 p.u. @ bus 8\n",
      "Voltage Angle      -4.62 deg   @ bus 9          4.89 deg   @ bus 2\n",
      "P Losses (I^2*R)             -                  1.39 MW    @ line 8-9\n",
      "Q Losses (I^2*X)             -                  9.36 MVAr  @ line 8-2\n",
      "Lambda P           24.04 $/MWh @ bus 2         25.00 $/MWh @ bus 9\n",
      "Lambda Q           -0.00 $/MWh @ bus 3          0.11 $/MWh @ bus 9\n",
      "\n",
      "================================================================================\n",
      "|     Bus Data                                                                 |\n",
      "================================================================================\n",
      " Bus      Voltage          Generation             Load          Lambda($/MVA-hr)\n",
      "  #   Mag(pu) Ang(deg)   P (MW)   Q (MVAr)   P (MW)   Q (MVAr)     P        Q\n",
      "----- ------- --------  --------  --------  --------  --------  -------  -------\n",
      "    1  1.100    0.000*    89.80     12.80       -         -      24.756     -\n",
      "    2  1.097    4.890    134.32      0.13       -         -      24.035     -\n",
      "    3  1.087    3.246     94.19    -22.55       -         -      24.077     -\n",
      "    4  1.094   -2.464       -         -         -         -      24.756   0.005\n",
      "    5  1.084   -3.984       -         -       90.00     30.00    24.999   0.027\n",
      "    6  1.100    0.600       -         -         -         -      24.077     -\n",
      "    7  1.089   -1.200       -         -      100.00     35.00    24.255   0.036\n",
      "    8  1.100    0.902       -         -         -         -      24.035     -\n",
      "    9  1.072   -4.618       -         -      125.00     50.00    24.999   0.112\n",
      "                        --------  --------  --------  --------\n",
      "               Total:    318.31     -9.62    315.00    115.00\n",
      "\n",
      "================================================================================\n",
      "|     Branch Data                                                              |\n",
      "================================================================================\n",
      "Brnch   From   To    From Bus Injection   To Bus Injection     Loss (I^2 * Z)\n",
      "  #     Bus    Bus    P (MW)   Q (MVAr)   P (MW)   Q (MVAr)   P (MW)   Q (MVAr)\n",
      "-----  -----  -----  --------  --------  --------  --------  --------  --------\n",
      "   1      1      4     89.80     12.80    -89.80     -8.88    -0.000      3.92\n",
      "   2      4      5     35.22     -3.97    -35.04    -13.80     0.180      0.98\n",
      "   3      5      6    -54.96    -16.20     55.97    -22.10     1.010      4.40\n",
      "   4      3      6     94.19    -22.55    -94.19     27.20     0.000      4.65\n",
      "   5      6      7     38.22     -5.10    -38.07    -18.68     0.149      1.26\n",
      "   6      7      8    -61.93    -16.32     62.21      0.82     0.279      2.36\n",
      "   7      8      2   -134.32      9.24    134.32      0.13     0.000      9.36\n",
      "   8      8      9     72.11    -10.05    -70.71    -19.01     1.394      7.01\n",
      "   9      9      4    -54.29    -30.99     54.58     12.85     0.295      2.50\n",
      "                                                             --------  --------\n",
      "                                                    Total:     3.307     36.46\n",
      "\n",
      "================================================================================\n",
      "|     Voltage Constraints                                                      |\n",
      "================================================================================\n",
      "Bus #  Vmin mu    Vmin    |V|   Vmax    Vmax mu\n",
      "-----  --------   -----  -----  -----   --------\n",
      "    1      -      0.900  1.100  1.100     9.167\n",
      "    2      -      0.900  1.097  1.100     0.121\n",
      "    4      -      0.900  1.094  1.100     0.260\n",
      "    6      -      0.900  1.100  1.100    74.814\n",
      "    8      -      0.900  1.100  1.100    76.888\n",
      "\n",
      "================================================================================\n",
      "|     Generation Constraints                                                   |\n",
      "================================================================================\n",
      " Gen   Bus                  Active Power Limits\n",
      "  #     #     Pmin mu     Pmin       Pg       Pmax    Pmax mu\n",
      "----  -----   -------   --------  --------  --------  -------\n",
      "   2     2       -        10.00    134.32    135.00     0.001\n",
      "PG: [ 89.80058238 134.31716134  94.18895306]\n",
      "PMAX: [100. 135.  95.]\n",
      " For Generator 1 there is no violation PG > PMAX\n",
      " For Generator 2 there is no violation PG > PMAX\n",
      " For Generator 3 there is no violation PG > PMAX\n"
     ]
    }
   ],
   "source": [
    "# Looping PMAX, Must Define first what numbers that will be use in loop change\n",
    "# Target list change of PMAX for every generator\n",
    "# format: {index_python: new_PMAX_values}\n",
    "\n",
    "# PMAX target values for each of generators\n",
    "# new_pmax_values = [300, 500, 200]   # gen1, gen2, gen3\n",
    "new_pmax_values = [100, 135, 95]   # gen1, gen2, gen3\n",
    "\n",
    "\n",
    "# loop untuk overwrite PMAX tiap generator\n",
    "for gen_index, new_pmax in enumerate(new_pmax_values):\n",
    "    r1_mpc['gen'][gen_index, PMAX_] = new_pmax\n",
    "\n",
    "# cek hasil PMAX setelah diubah\n",
    "print(\"PMAX after update:\")\n",
    "print(r1_mpc['gen'][:, PMAX_])\n",
    "\n",
    "# run OPF\n",
    "mpc = runopf(r1_mpc, m=m, verbose=True, inplace=True)\n",
    "\n",
    "# Take PG Results after Run\n",
    "PG_ = int(PG - 1)\n",
    "PG_after = mpc['gen'][:, PG_]\n",
    "PG_after\n",
    "\n",
    "PMAX_ = int(PMAX - 1)\n",
    "PMAX_after = mpc['gen'][:,PMAX_]\n",
    "PMAX_after\n",
    "\n",
    "print(\"PG:\", PG_after)\n",
    "print(\"PMAX:\", PMAX_after)\n",
    "\n",
    "# Checking if There is PG > PMAX\n",
    "for i, (pg, pmax) in enumerate(zip(PG_after, PMAX_after)):\n",
    "    if pg > pmax:\n",
    "        print(f\" Gen {i+1} violate PMAX: PG={pg:.2f}, PMAX={pmax:.2f}\")\n",
    "    else:\n",
    "        print(f\" For Generator {i+1} there is no violation PG > PMAX\")\n"
   ]
  },
  {
   "cell_type": "markdown",
   "id": "9c4d81a0",
   "metadata": {},
   "source": [
    "# Case 3: Experiment Change Genstatus of slack and Gen 3"
   ]
  },
  {
   "cell_type": "code",
   "execution_count": 162,
   "id": "bea08721",
   "metadata": {},
   "outputs": [
    {
     "name": "stdout",
     "output_type": "stream",
     "text": [
      "PMAX default IEEE 9 bus:\n",
      "[250. 300. 270.]\n"
     ]
    }
   ],
   "source": [
    "# PMAX change to default 9 bus IEEE case\n",
    "r1_mpc['gen'][0:3, PMAX_] = [250, 300, 270]\n",
    "\n",
    "print(\"PMAX default IEEE 9 bus:\")\n",
    "print(r1_mpc['gen'][:, PMAX_])"
   ]
  },
  {
   "cell_type": "markdown",
   "id": "c5f8abad",
   "metadata": {},
   "source": [
    "## 3.1 Change Gen_Status Gen 1 (Slack)"
   ]
  },
  {
   "cell_type": "code",
   "execution_count": 145,
   "id": "340dbaaf",
   "metadata": {},
   "outputs": [],
   "source": [
    "[GEN_BUS, PG, QG, QMAX, QMIN, VG, MBASE, GEN_STATUS, PMAX, PMIN, \n",
    " MU_PMAX, MU_PMIN, MU_QMAX, MU_QMIN, PC1, PC2, QC1MIN, QC1MAX, \n",
    " QC2MIN, QC2MAX, RAMP_AGC, RAMP_10, RAMP_30, RAMP_Q, APF] = m.idx_gen(nout='max_nout')\n",
    "\n",
    "gen_index = 1\n",
    "gen_index_ = int(gen_index - 1)\n",
    "gen_index_\n",
    "\n",
    "GEN_STATUS_ = int(GEN_STATUS - 1) # -1 due to python indexing start from 0\n",
    "r1_mpc['gen'][gen_index_,GEN_STATUS_] = 0"
   ]
  },
  {
   "cell_type": "code",
   "execution_count": 146,
   "id": "efcb6af9",
   "metadata": {},
   "outputs": [
    {
     "name": "stdout",
     "output_type": "stream",
     "text": [
      "[0. 1. 1.]\n"
     ]
    }
   ],
   "source": [
    "print(r1_mpc['gen'][:, GEN_STATUS_])"
   ]
  },
  {
   "cell_type": "code",
   "execution_count": 147,
   "id": "c4c4d1ef",
   "metadata": {},
   "outputs": [
    {
     "name": "stdout",
     "output_type": "stream",
     "text": [
      "\n",
      "MATPOWER Version 8.0, 17-May-2024\n",
      "Optimal Power Flow -- AC-polar-power formulation\n",
      "MATPOWER Interior Point Solver -- MIPS, Version 1.5.1, 10-May-2024\n",
      " (using built-in linear solver)\n",
      " it    objective   step size   feascond     gradcond     compcond     costcond\n",
      "----  ------------ --------- ------------ ------------ ------------ ------------\n",
      "  0      5704.125                   0.155       0.1765      53.8542            0\n",
      "  1     6379.9437    0.51944    0.0190183      7.54382      11.1958    0.0430345\n",
      "  2     6680.7822    0.54053   0.00200334      1.26812      2.41936    0.0183663\n",
      "  3     6660.4399   0.038847  1.66416e-05    0.0880329     0.252644   0.00121951\n",
      "  4     6591.9254    0.17745  0.000132943    0.0518963    0.0257388   0.00411241\n",
      "  5     6568.0996    0.12454  0.000320356    0.0136191   0.00801624   0.00143599\n",
      "  6     6540.1936    0.17259  0.000745848   0.00231882   0.00164638   0.00168432\n",
      "  7      6532.962   0.099403  0.000232506   0.00100447   0.00032516  0.000437213\n",
      "  8      6532.473    0.02904   4.4659e-05   0.00029227  4.09189e-05   2.9573e-05\n",
      "  9     6532.6112 0.00050508   3.9849e-07   2.6291e-07  4.04696e-06  8.35706e-06\n",
      " 10     6532.6078 0.00011539  1.26044e-08  1.95716e-07  4.10082e-07  2.07282e-07\n",
      "Converged!\n",
      "OPF successful\n",
      "\n",
      "Converged in 0.37 seconds\n",
      "Objective Function Value = 6532.61 $/hr\n",
      "================================================================================\n",
      "|     System Summary                                                           |\n",
      "================================================================================\n",
      "\n",
      "How many?                How much?              P (MW)            Q (MVAr)\n",
      "---------------------    -------------------  -------------  -----------------\n",
      "Buses              9     Total Gen Capacity     820.0        -900.0 to 900.0\n",
      "Generators         3     On-line Capacity       570.0        -600.0 to 600.0\n",
      "Committed Gens     2     Generation (actual)    323.0              27.5\n",
      "Loads              3     Load                   315.0             115.0\n",
      "  Fixed            3       Fixed                315.0             115.0\n",
      "  Dispatchable     0       Dispatchable          -0.0 of -0.0      -0.0\n",
      "Shunts             0     Shunt (inj)             -0.0               0.0\n",
      "Branches           9     Losses (I^2 * Z)         8.04             67.37\n",
      "Transformers       0     Branch Charging (inj)     -              154.8\n",
      "Inter-ties         0     Total Inter-tie Flow     0.0               0.0\n",
      "Areas              1\n",
      "\n",
      "                          Minimum                      Maximum\n",
      "                 -------------------------  --------------------------------\n",
      "Voltage Magnitude   1.031 p.u. @ bus 9          1.100 p.u. @ bus 3\n",
      "Voltage Angle      -0.22 deg   @ bus 9         15.05 deg   @ bus 2\n",
      "P Losses (I^2*R)             -                  4.19 MW    @ line 8-9\n",
      "Q Losses (I^2*X)             -                 21.08 MVAr  @ line 8-9\n",
      "Lambda P           33.50 $/MWh @ bus 2         36.22 $/MWh @ bus 9\n",
      "Lambda Q            0.00 $/MWh @ bus 3          0.87 $/MWh @ bus 9\n",
      "\n",
      "================================================================================\n",
      "|     Bus Data                                                                 |\n",
      "================================================================================\n",
      " Bus      Voltage          Generation             Load          Lambda($/MVA-hr)\n",
      "  #   Mag(pu) Ang(deg)   P (MW)   Q (MVAr)   P (MW)   Q (MVAr)     P        Q\n",
      "----- ------- --------  --------  --------  --------  --------  -------  -------\n",
      "    1  1.047    0.000*      -         -         -         -      36.181   0.717\n",
      "    2  1.100   15.052    190.00     23.22       -         -      33.500     -\n",
      "    3  1.100   12.223    133.04      4.31       -         -      33.594     -\n",
      "    4  1.047    0.000       -         -         -         -      36.181   0.717\n",
      "    5  1.049    0.340       -         -       90.00     30.00    36.107   0.679\n",
      "    6  1.100    8.528       -         -         -         -      33.604   0.145\n",
      "    7  1.085    7.031       -         -      100.00     35.00    33.855   0.248\n",
      "    8  1.092    9.379       -         -         -         -      33.522   0.226\n",
      "    9  1.031   -0.224       -         -      125.00     50.00    36.219   0.872\n",
      "                        --------  --------  --------  --------\n",
      "               Total:    323.04     27.53    315.00    115.00\n",
      "\n",
      "================================================================================\n",
      "|     Branch Data                                                              |\n",
      "================================================================================\n",
      "Brnch   From   To    From Bus Injection   To Bus Injection     Loss (I^2 * Z)\n",
      "  #     Bus    Bus    P (MW)   Q (MVAr)   P (MW)   Q (MVAr)   P (MW)   Q (MVAr)\n",
      "-----  -----  -----  --------  --------  --------  --------  --------  --------\n",
      "   1      1      4      0.00      0.00      0.00      0.00     0.000      0.00\n",
      "   2      4      5     -7.19     -9.26      7.20     -8.06     0.008      0.04\n",
      "   3      5      6    -97.20    -21.94    100.55     -4.81     3.350     14.60\n",
      "   4      3      6    133.04      4.31   -133.04      4.27     0.000      8.58\n",
      "   5      6      7     32.49      0.54    -32.37    -24.46     0.121      1.02\n",
      "   6      7      8    -67.63    -10.54     67.96     -4.31     0.331      2.80\n",
      "   7      8      2   -190.00     -4.29    190.00     23.22     0.000     18.92\n",
      "   8      8      9    122.04      8.60   -117.85    -22.05     4.189     21.08\n",
      "   9      9      4     -7.15    -27.95      7.19      9.26     0.037      0.32\n",
      "                                                             --------  --------\n",
      "                                                    Total:     8.036     67.37\n",
      "\n",
      "================================================================================\n",
      "|     Voltage Constraints                                                      |\n",
      "================================================================================\n",
      "Bus #  Vmin mu    Vmin    |V|   Vmax    Vmax mu\n",
      "-----  --------   -----  -----  -----   --------\n",
      "    2      -      0.900  1.100  1.100   396.510\n",
      "    3      -      0.900  1.100  1.100   273.426\n",
      "    6      -      0.900  1.100  1.100    59.087\n"
     ]
    }
   ],
   "source": [
    "# run OPF\n",
    "mpc = runopf(r1_mpc, m=m, verbose=True, inplace=True)"
   ]
  },
  {
   "cell_type": "markdown",
   "id": "5494d299",
   "metadata": {},
   "source": [
    "## 3.2 Change Gen_Status Gen 3 (PV)"
   ]
  },
  {
   "cell_type": "code",
   "execution_count": 148,
   "id": "b3302e9d",
   "metadata": {},
   "outputs": [
    {
     "name": "stdout",
     "output_type": "stream",
     "text": [
      "[1. 1. 1.]\n"
     ]
    }
   ],
   "source": [
    "[GEN_BUS, PG, QG, QMAX, QMIN, VG, MBASE, GEN_STATUS, PMAX, PMIN, \n",
    " MU_PMAX, MU_PMIN, MU_QMAX, MU_QMIN, PC1, PC2, QC1MIN, QC1MAX, \n",
    " QC2MIN, QC2MAX, RAMP_AGC, RAMP_10, RAMP_30, RAMP_Q, APF] = m.idx_gen(nout='max_nout')\n",
    "\n",
    "gen_index = 1\n",
    "gen_index_ = int(gen_index - 1)\n",
    "gen_index_\n",
    "\n",
    "GEN_STATUS_ = int(GEN_STATUS - 1) # -1 due to python indexing start from 0\n",
    "r1_mpc['gen'][gen_index_,GEN_STATUS_] = 1\n",
    "\n",
    "print(r1_mpc['gen'][:, GEN_STATUS_])"
   ]
  },
  {
   "cell_type": "code",
   "execution_count": 149,
   "id": "9afa9260",
   "metadata": {},
   "outputs": [
    {
     "name": "stdout",
     "output_type": "stream",
     "text": [
      "[1. 1. 0.]\n"
     ]
    }
   ],
   "source": [
    "[GEN_BUS, PG, QG, QMAX, QMIN, VG, MBASE, GEN_STATUS, PMAX, PMIN, \n",
    " MU_PMAX, MU_PMIN, MU_QMAX, MU_QMIN, PC1, PC2, QC1MIN, QC1MAX, \n",
    " QC2MIN, QC2MAX, RAMP_AGC, RAMP_10, RAMP_30, RAMP_Q, APF] = m.idx_gen(nout='max_nout')\n",
    "\n",
    "gen_index = 3\n",
    "gen_index_ = int(gen_index - 1)\n",
    "gen_index_\n",
    "\n",
    "GEN_STATUS_ = int(GEN_STATUS - 1) # -1 due to python indexing start from 0\n",
    "r1_mpc['gen'][gen_index_,GEN_STATUS_] = 0\n",
    "\n",
    "print(r1_mpc['gen'][:, GEN_STATUS_])"
   ]
  },
  {
   "cell_type": "code",
   "execution_count": 150,
   "id": "fca5101d",
   "metadata": {},
   "outputs": [
    {
     "name": "stdout",
     "output_type": "stream",
     "text": [
      "\n",
      "MATPOWER Version 8.0, 17-May-2024\n",
      "Optimal Power Flow -- AC-polar-power formulation\n",
      "MATPOWER Interior Point Solver -- MIPS, Version 1.5.1, 10-May-2024\n",
      " (using built-in linear solver)\n",
      " it    objective   step size   feascond     gradcond     compcond     costcond\n",
      "----  ------------ --------- ------------ ------------ ------------ ------------\n",
      "  0      5487.125                   0.155        0.168      53.7758            0\n",
      "  1     6522.8476    0.46174    0.0143286      6.97721      11.1999    0.0668764\n",
      "  2     6663.6671    0.38256  0.000793444      1.00207      1.90817   0.00852272\n",
      "  3      6624.637   0.065433  5.76949e-05     0.168241     0.197198   0.00234223\n",
      "  4     6540.2412    0.23304  0.000159064    0.0402933    0.0204507   0.00507655\n",
      "  5     6532.2732   0.093702  0.000245971   0.00538465   0.00399906  0.000481737\n",
      "  6     6517.0061    0.21741   0.00122059   0.00208918   0.00101133  0.000923469\n",
      "  7     6510.9013    0.13828  0.000453725  0.000215328  0.000220495  0.000369609\n",
      "  8     6511.3419   0.015463  1.73005e-06  3.31447e-05   2.9958e-05  2.66838e-05\n",
      "  9     6511.2834  0.0059954  2.71433e-07  1.68155e-07  3.11154e-06  3.54032e-06\n",
      " 10     6511.2836 0.00044866   1.3907e-09  1.02329e-09   3.1178e-07  1.32628e-08\n",
      "Converged!\n",
      "OPF successful\n",
      "\n",
      "Converged in 0.38 seconds\n",
      "Objective Function Value = 6511.28 $/hr\n",
      "================================================================================\n",
      "|     System Summary                                                           |\n",
      "================================================================================\n",
      "\n",
      "How many?                How much?              P (MW)            Q (MVAr)\n",
      "---------------------    -------------------  -------------  -----------------\n",
      "Buses              9     Total Gen Capacity     820.0        -900.0 to 900.0\n",
      "Generators         3     On-line Capacity       550.0        -600.0 to 600.0\n",
      "Committed Gens     2     Generation (actual)    318.7               7.2\n",
      "Loads              3     Load                   315.0             115.0\n",
      "  Fixed            3       Fixed                315.0             115.0\n",
      "  Dispatchable     0       Dispatchable          -0.0 of -0.0      -0.0\n",
      "Shunts             0     Shunt (inj)             -0.0               0.0\n",
      "Branches           9     Losses (I^2 * Z)         3.66             50.90\n",
      "Transformers       0     Branch Charging (inj)     -              158.7\n",
      "Inter-ties         0     Total Inter-tie Flow     0.0               0.0\n",
      "Areas              1\n",
      "\n",
      "                          Minimum                      Maximum\n",
      "                 -------------------------  --------------------------------\n",
      "Voltage Magnitude   1.060 p.u. @ bus 9          1.100 p.u. @ bus 3\n",
      "Voltage Angle      -7.02 deg   @ bus 5          5.16 deg   @ bus 2\n",
      "P Losses (I^2*R)             -                  1.30 MW    @ line 8-9\n",
      "Q Losses (I^2*X)             -                 18.89 MVAr  @ line 8-2\n",
      "Lambda P           33.09 $/MWh @ bus 2         34.46 $/MWh @ bus 5\n",
      "Lambda Q           -0.45 $/MWh @ bus 3          0.15 $/MWh @ bus 9\n",
      "\n",
      "================================================================================\n",
      "|     Bus Data                                                                 |\n",
      "================================================================================\n",
      " Bus      Voltage          Generation             Load          Lambda($/MVA-hr)\n",
      "  #   Mag(pu) Ang(deg)   P (MW)   Q (MVAr)   P (MW)   Q (MVAr)     P        Q\n",
      "----- ------- --------  --------  --------  --------  --------  -------  -------\n",
      "    1  1.086    0.000*   131.05      8.90       -         -      33.830     -\n",
      "    2  1.079    5.162    187.61     -1.67       -         -      33.094     -\n",
      "    3  1.100   -5.765       -         -         -         -      33.901  -0.453\n",
      "    4  1.084   -3.676       -         -         -         -      33.830     -\n",
      "    5  1.079   -7.025       -         -       90.00     30.00    34.459  -0.104\n",
      "    6  1.100   -5.765       -         -         -         -      33.901  -0.398\n",
      "    7  1.080   -4.768       -         -      100.00     35.00    33.717  -0.102\n",
      "    8  1.086   -0.582       -         -         -         -      33.094     -\n",
      "    9  1.060   -6.000       -         -      125.00     50.00    34.257   0.152\n",
      "                        --------  --------  --------  --------\n",
      "               Total:    318.66      7.23    315.00    115.00\n",
      "\n",
      "================================================================================\n",
      "|     Branch Data                                                              |\n",
      "================================================================================\n",
      "Brnch   From   To    From Bus Injection   To Bus Injection     Loss (I^2 * Z)\n",
      "  #     Bus    Bus    P (MW)   Q (MVAr)   P (MW)   Q (MVAr)   P (MW)   Q (MVAr)\n",
      "-----  -----  -----  --------  --------  --------  --------  --------  --------\n",
      "   1      1      4    131.05      8.90   -131.05     -0.48     0.000      8.42\n",
      "   2      4      5     73.28    -14.46    -72.50      0.22     0.781      4.23\n",
      "   3      5      6    -17.50    -30.22     17.64    -11.69     0.132      0.58\n",
      "   4      3      6      0.00      0.00      0.00      0.00     0.000      0.00\n",
      "   5      6      7    -17.64     11.69     17.72    -35.76     0.089      0.75\n",
      "   6      7      8   -117.72      0.76    118.74     -9.62     1.017      8.61\n",
      "   7      8      2   -187.61     20.56    187.61     -1.67    -0.000     18.89\n",
      "   8      8      9     68.87    -10.94    -67.57    -17.72     1.301      6.55\n",
      "   9      9      4    -57.43    -32.28     57.77     14.94     0.338      2.88\n",
      "                                                             --------  --------\n",
      "                                                    Total:     3.659     50.90\n",
      "\n",
      "================================================================================\n",
      "|     Voltage Constraints                                                      |\n",
      "================================================================================\n",
      "Bus #  Vmin mu    Vmin    |V|   Vmax    Vmax mu\n",
      "-----  --------   -----  -----  -----   --------\n",
      "    3      -      0.900  1.100  1.100   103.435\n",
      "    6      -      0.900  1.100  1.100   103.435\n"
     ]
    }
   ],
   "source": [
    "# run OPF\n",
    "mpc = runopf(r1_mpc, m=m, verbose=True, inplace=True)"
   ]
  },
  {
   "cell_type": "code",
   "execution_count": 155,
   "id": "90954c86",
   "metadata": {},
   "outputs": [
    {
     "name": "stdout",
     "output_type": "stream",
     "text": [
      "[1. 1. 1.]\n"
     ]
    }
   ],
   "source": [
    "[GEN_BUS, PG, QG, QMAX, QMIN, VG, MBASE, GEN_STATUS, PMAX, PMIN, \n",
    " MU_PMAX, MU_PMIN, MU_QMAX, MU_QMIN, PC1, PC2, QC1MIN, QC1MAX, \n",
    " QC2MIN, QC2MAX, RAMP_AGC, RAMP_10, RAMP_30, RAMP_Q, APF] = m.idx_gen(nout='max_nout')\n",
    "\n",
    "gen_index = 2\n",
    "gen_index_ = int(gen_index - 1)\n",
    "gen_index_\n",
    "\n",
    "GEN_STATUS_ = int(GEN_STATUS - 1) # -1 due to python indexing start from 0\n",
    "r1_mpc['gen'][gen_index_,GEN_STATUS_] = 1\n",
    "\n",
    "print(r1_mpc['gen'][:, GEN_STATUS_])"
   ]
  },
  {
   "cell_type": "markdown",
   "id": "919a873e",
   "metadata": {},
   "source": [
    "# Case 4: Loop Change Gen_Status "
   ]
  },
  {
   "cell_type": "code",
   "execution_count": 158,
   "id": "78f73c94",
   "metadata": {},
   "outputs": [
    {
     "name": "stdout",
     "output_type": "stream",
     "text": [
      "Gen_Status after update:\n",
      "[1. 1. 0.]\n",
      "\n",
      "MATPOWER Version 8.0, 17-May-2024\n",
      "Optimal Power Flow -- AC-polar-power formulation\n",
      "MATPOWER Interior Point Solver -- MIPS, Version 1.5.1, 10-May-2024\n",
      " (using built-in linear solver)\n",
      " it    objective   step size   feascond     gradcond     compcond     costcond\n",
      "----  ------------ --------- ------------ ------------ ------------ ------------\n",
      "  0      5487.125                   0.155        0.168      53.7758            0\n",
      "  1     6522.8476    0.46174    0.0143286      6.97721      11.1999    0.0668764\n",
      "  2     6663.6671    0.38256  0.000793444      1.00207      1.90817   0.00852272\n",
      "  3      6624.637   0.065433  5.76949e-05     0.168241     0.197198   0.00234223\n",
      "  4     6540.2412    0.23304  0.000159064    0.0402933    0.0204507   0.00507655\n",
      "  5     6532.2732   0.093702  0.000245971   0.00538465   0.00399906  0.000481737\n",
      "  6     6517.0061    0.21741   0.00122059   0.00208918   0.00101133  0.000923469\n",
      "  7     6510.9013    0.13828  0.000453725  0.000215328  0.000220495  0.000369609\n",
      "  8     6511.3419   0.015463  1.73005e-06  3.31447e-05   2.9958e-05  2.66838e-05\n",
      "  9     6511.2834  0.0059954  2.71433e-07  1.68155e-07  3.11154e-06  3.54032e-06\n",
      " 10     6511.2836 0.00044866   1.3907e-09  1.02329e-09   3.1178e-07  1.32628e-08\n",
      "Converged!\n",
      "OPF successful\n",
      "\n",
      "Converged in 0.37 seconds\n",
      "Objective Function Value = 6511.28 $/hr\n",
      "================================================================================\n",
      "|     System Summary                                                           |\n",
      "================================================================================\n",
      "\n",
      "How many?                How much?              P (MW)            Q (MVAr)\n",
      "---------------------    -------------------  -------------  -----------------\n",
      "Buses              9     Total Gen Capacity     820.0        -900.0 to 900.0\n",
      "Generators         3     On-line Capacity       550.0        -600.0 to 600.0\n",
      "Committed Gens     2     Generation (actual)    318.7               7.2\n",
      "Loads              3     Load                   315.0             115.0\n",
      "  Fixed            3       Fixed                315.0             115.0\n",
      "  Dispatchable     0       Dispatchable          -0.0 of -0.0      -0.0\n",
      "Shunts             0     Shunt (inj)             -0.0               0.0\n",
      "Branches           9     Losses (I^2 * Z)         3.66             50.90\n",
      "Transformers       0     Branch Charging (inj)     -              158.7\n",
      "Inter-ties         0     Total Inter-tie Flow     0.0               0.0\n",
      "Areas              1\n",
      "\n",
      "                          Minimum                      Maximum\n",
      "                 -------------------------  --------------------------------\n",
      "Voltage Magnitude   1.060 p.u. @ bus 9          1.100 p.u. @ bus 3\n",
      "Voltage Angle      -7.02 deg   @ bus 5          5.16 deg   @ bus 2\n",
      "P Losses (I^2*R)             -                  1.30 MW    @ line 8-9\n",
      "Q Losses (I^2*X)             -                 18.89 MVAr  @ line 8-2\n",
      "Lambda P           33.09 $/MWh @ bus 2         34.46 $/MWh @ bus 5\n",
      "Lambda Q           -0.45 $/MWh @ bus 3          0.15 $/MWh @ bus 9\n",
      "\n",
      "================================================================================\n",
      "|     Bus Data                                                                 |\n",
      "================================================================================\n",
      " Bus      Voltage          Generation             Load          Lambda($/MVA-hr)\n",
      "  #   Mag(pu) Ang(deg)   P (MW)   Q (MVAr)   P (MW)   Q (MVAr)     P        Q\n",
      "----- ------- --------  --------  --------  --------  --------  -------  -------\n",
      "    1  1.086   -0.000*   131.05      8.90       -         -      33.830     -\n",
      "    2  1.079    5.162    187.61     -1.67       -         -      33.094     -\n",
      "    3  1.100   -5.765       -         -         -         -      33.901  -0.453\n",
      "    4  1.084   -3.676       -         -         -         -      33.830     -\n",
      "    5  1.079   -7.025       -         -       90.00     30.00    34.459  -0.104\n",
      "    6  1.100   -5.765       -         -         -         -      33.901  -0.398\n",
      "    7  1.080   -4.768       -         -      100.00     35.00    33.717  -0.102\n",
      "    8  1.086   -0.582       -         -         -         -      33.094     -\n",
      "    9  1.060   -6.000       -         -      125.00     50.00    34.257   0.152\n",
      "                        --------  --------  --------  --------\n",
      "               Total:    318.66      7.23    315.00    115.00\n",
      "\n",
      "================================================================================\n",
      "|     Branch Data                                                              |\n",
      "================================================================================\n",
      "Brnch   From   To    From Bus Injection   To Bus Injection     Loss (I^2 * Z)\n",
      "  #     Bus    Bus    P (MW)   Q (MVAr)   P (MW)   Q (MVAr)   P (MW)   Q (MVAr)\n",
      "-----  -----  -----  --------  --------  --------  --------  --------  --------\n",
      "   1      1      4    131.05      8.90   -131.05     -0.48     0.000      8.42\n",
      "   2      4      5     73.28    -14.46    -72.50      0.22     0.781      4.23\n",
      "   3      5      6    -17.50    -30.22     17.64    -11.69     0.132      0.58\n",
      "   4      3      6      0.00      0.00      0.00      0.00     0.000      0.00\n",
      "   5      6      7    -17.64     11.69     17.72    -35.76     0.089      0.75\n",
      "   6      7      8   -117.72      0.76    118.74     -9.62     1.017      8.61\n",
      "   7      8      2   -187.61     20.56    187.61     -1.67     0.000     18.89\n",
      "   8      8      9     68.87    -10.94    -67.57    -17.72     1.301      6.55\n",
      "   9      9      4    -57.43    -32.28     57.77     14.94     0.338      2.88\n",
      "                                                             --------  --------\n",
      "                                                    Total:     3.659     50.90\n",
      "\n",
      "================================================================================\n",
      "|     Voltage Constraints                                                      |\n",
      "================================================================================\n",
      "Bus #  Vmin mu    Vmin    |V|   Vmax    Vmax mu\n",
      "-----  --------   -----  -----  -----   --------\n",
      "    3      -      0.900  1.100  1.100   103.435\n",
      "    6      -      0.900  1.100  1.100   103.435\n"
     ]
    }
   ],
   "source": [
    "# Looping PMAX, Must Define first what numbers that will be use in loop change\n",
    "# Target list change of PMAX for every generator\n",
    "# format: {index_python: new_PMAX_values}\n",
    "\n",
    "# PMAX target values for each of generators\n",
    "new_GenStatus_values = [1, 1, 0]   # gen1, gen2, gen3\n",
    "\n",
    "\n",
    "# loop untuk overwrite PMAX tiap generator\n",
    "for gen_index, new_GenStatus_values in enumerate(new_GenStatus_values):\n",
    "    r1_mpc['gen'][gen_index, GEN_STATUS_] = new_GenStatus_values\n",
    "\n",
    "# cek hasil PMAX setelah diubah\n",
    "print(\"Gen_Status after update:\")\n",
    "print(r1_mpc['gen'][:, GEN_STATUS_])\n",
    "\n",
    "# run OPF\n",
    "mpc = runopf(r1_mpc, m=m, verbose=True, inplace=True)\n",
    "\n",
    "# # Take PG Results after Run\n",
    "# PG_ = int(PG - 1)\n",
    "# PG_after = mpc['gen'][:, PG_]\n",
    "# PG_after\n",
    "\n",
    "# PMAX_ = int(PMAX - 1)\n",
    "# PMAX_after = mpc['gen'][:,PMAX_]\n",
    "# PMAX_after\n",
    "\n",
    "# print(\"PG:\", PG_after)\n",
    "# print(\"PMAX:\", PMAX_after)\n",
    "\n",
    "# # Checking if There is PG > PMAX\n",
    "# for i, (pg, pmax) in enumerate(zip(PG_after, PMAX_after)):\n",
    "#     if pg > pmax:\n",
    "#         print(f\" Gen {i+1} violate PMAX: PG={pg:.2f}, PMAX={pmax:.2f}\")\n",
    "#     else:\n",
    "#         print(f\" For Generator {i+1} there is no violation PG > PMAX\")"
   ]
  },
  {
   "cell_type": "markdown",
   "id": "9f056d0e",
   "metadata": {},
   "source": [
    "# Looping PMAX but skip one or Some Generators"
   ]
  },
  {
   "cell_type": "code",
   "execution_count": 164,
   "id": "eff02b1f",
   "metadata": {},
   "outputs": [
    {
     "name": "stdout",
     "output_type": "stream",
     "text": [
      "[350. 300. 100.]\n"
     ]
    }
   ],
   "source": [
    "# target PMAX values\n",
    "new_pmax_values = [350, 80, 100]\n",
    "\n",
    "# Combination example: If want to skip some generator\n",
    "for idx, val in enumerate(new_pmax_values):\n",
    "    if idx != 1:  # Example: skip gen 2\n",
    "        r1_mpc['gen'][idx, PMAX_] = val\n",
    "\n",
    "# cek results\n",
    "print(r1_mpc['gen'][:, PMAX_])\n"
   ]
  }
 ],
 "metadata": {
  "kernelspec": {
   "display_name": "Python 3",
   "language": "python",
   "name": "python3"
  },
  "language_info": {
   "codemirror_mode": {
    "name": "ipython",
    "version": 3
   },
   "file_extension": ".py",
   "mimetype": "text/x-python",
   "name": "python",
   "nbconvert_exporter": "python",
   "pygments_lexer": "ipython3",
   "version": "3.10.0"
  }
 },
 "nbformat": 4,
 "nbformat_minor": 5
}
